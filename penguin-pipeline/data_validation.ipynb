{
 "cells": [
  {
   "cell_type": "code",
   "execution_count": 60,
   "metadata": {},
   "outputs": [],
   "source": [
    "# import required libs\n",
    "import glob\n",
    "import os\n",
    "\n",
    "import tensorflow as tf\n",
    "import tensorflow_data_validation as tfdv\n",
    "from tfx import v1 as tfx\n",
    "\n",
    "from pipeline.config import pipe_config"
   ]
  },
  {
   "cell_type": "code",
   "execution_count": 63,
   "metadata": {},
   "outputs": [],
   "source": [
    "from tfx.orchestration.metadata import Metadata\n",
    "from tfx.types import standard_artifacts\n",
    "from tfx.orchestration.portable.mlmd import execution_lib\n",
    "from tfx.orchestration.experimental.interactive import visualizations\n",
    "\n",
    "from pipeline.schema_pipeline.utils import get_latest_artifacts\n",
    "\n",
    "def visualize_artifacts(artifacts):\n",
    "    \"\"\"Visualizes artifacts using standard visualization modules.\"\"\"\n",
    "    for artifact in artifacts:\n",
    "        visualization = visualizations.get_registry().get_visualization(\n",
    "            artifact.type_name)\n",
    "    if visualization:\n",
    "        visualization.display(artifact)\n",
    "\n",
    "metadata_connection_config = tfx.orchestration.metadata.sqlite_metadata_connection_config(\n",
    "    pipe_config.METADATA_PATH)\n",
    "\n",
    "with Metadata(metadata_connection_config) as store:\n",
    "    stats_artifacts = store.get_artifacts_by_type(standard_artifacts.ExampleStatistics.TYPE_NAME)\n",
    "    schema_artifacts = store.get_artifacts_by_type(standard_artifacts.Schema.TYPE_NAME)\n",
    "    anomalies_artifacts = store.get_artifacts_by_type(standard_artifacts.ExampleAnomalies.TYPE_NAME)"
   ]
  },
  {
   "cell_type": "code",
   "execution_count": 64,
   "metadata": {},
   "outputs": [
    {
     "name": "stdout",
     "output_type": "stream",
     "text": [
      "Train stats file:pipeline_output/penguin-e2e/StatisticsGen/statistics/7/Split-train/FeatureStats.pb, Eval stats file:pipeline_output/penguin-e2e/StatisticsGen/statistics/7/Split-eval/FeatureStats.pb\n",
      "Generated schame file:schema/penguin-schema/schema.pbtxt/schema.pbtxt\n",
      "Generated anomalies file:pipeline_output/penguin-e2e/ExampleValidator/anomalies/10/Split-train/SchemaDiff.pb\n"
     ]
    }
   ],
   "source": [
    "# configure output paths\n",
    "stats_path = stats_artifacts[-1].uri\n",
    "train_stats_file = os.path.join(stats_path, 'Split-train', 'FeatureStats.pb')\n",
    "eval_stats_file = os.path.join(stats_path, 'Split-eval', 'FeatureStats.pb')\n",
    "print(\"Train stats file:{}, Eval stats file:{}\".format(\n",
    "    train_stats_file, eval_stats_file))\n",
    "\n",
    "schema_file = os.path.join(schema_artifacts[-1].uri, 'schema.pbtxt')\n",
    "print(\"Generated schame file:{}\".format(schema_file))\n",
    "anomalies_file = os.path.join(anomalies_artifacts[-1].uri, 'Split-train','SchemaDiff.pb')\n",
    "print(\"Generated anomalies file:{}\".format(anomalies_file))"
   ]
  },
  {
   "cell_type": "code",
   "execution_count": 65,
   "metadata": {},
   "outputs": [
    {
     "data": {
      "text/html": [
       "<iframe id='facets-iframe' width=\"100%\" height=\"500px\"></iframe>\n",
       "        <script>\n",
       "        facets_iframe = document.getElementById('facets-iframe');\n",
       "        facets_html = '<script src=\"https://cdnjs.cloudflare.com/ajax/libs/webcomponentsjs/1.3.3/webcomponents-lite.js\"><\\/script><link rel=\"import\" href=\"https://raw.githubusercontent.com/PAIR-code/facets/master/facets-dist/facets-jupyter.html\"><facets-overview proto-input=\"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\"></facets-overview>';\n",
       "        facets_iframe.srcdoc = facets_html;\n",
       "         facets_iframe.id = \"\";\n",
       "         setTimeout(() => {\n",
       "           facets_iframe.setAttribute('height', facets_iframe.contentWindow.document.body.offsetHeight + 'px')\n",
       "         }, 1500)\n",
       "         </script>"
      ],
      "text/plain": [
       "<IPython.core.display.HTML object>"
      ]
     },
     "metadata": {},
     "output_type": "display_data"
    }
   ],
   "source": [
    "# load generated statistics from StatisticsGen\n",
    "train_stats = tfdv.load_stats_binary(train_stats_file)\n",
    "eval_stats = tfdv.load_stats_binary(eval_stats_file)\n",
    "tfdv.visualize_statistics(lhs_statistics=eval_stats, rhs_statistics=train_stats,\n",
    "                          lhs_name='EVAL_DATASET', rhs_name='TRAIN_DATASET')"
   ]
  },
  {
   "cell_type": "code",
   "execution_count": 66,
   "metadata": {},
   "outputs": [
    {
     "data": {
      "text/html": [
       "<div>\n",
       "<style scoped>\n",
       "    .dataframe tbody tr th:only-of-type {\n",
       "        vertical-align: middle;\n",
       "    }\n",
       "\n",
       "    .dataframe tbody tr th {\n",
       "        vertical-align: top;\n",
       "    }\n",
       "\n",
       "    .dataframe thead th {\n",
       "        text-align: right;\n",
       "    }\n",
       "</style>\n",
       "<table border=\"1\" class=\"dataframe\">\n",
       "  <thead>\n",
       "    <tr style=\"text-align: right;\">\n",
       "      <th></th>\n",
       "      <th>Type</th>\n",
       "      <th>Presence</th>\n",
       "      <th>Valency</th>\n",
       "      <th>Domain</th>\n",
       "    </tr>\n",
       "    <tr>\n",
       "      <th>Feature name</th>\n",
       "      <th></th>\n",
       "      <th></th>\n",
       "      <th></th>\n",
       "      <th></th>\n",
       "    </tr>\n",
       "  </thead>\n",
       "  <tbody>\n",
       "    <tr>\n",
       "      <th>'bill_depth_mm'</th>\n",
       "      <td>FLOAT</td>\n",
       "      <td>required</td>\n",
       "      <td></td>\n",
       "      <td>-</td>\n",
       "    </tr>\n",
       "    <tr>\n",
       "      <th>'bill_length_mm'</th>\n",
       "      <td>FLOAT</td>\n",
       "      <td>required</td>\n",
       "      <td></td>\n",
       "      <td>-</td>\n",
       "    </tr>\n",
       "    <tr>\n",
       "      <th>'body_mass_g'</th>\n",
       "      <td>FLOAT</td>\n",
       "      <td>required</td>\n",
       "      <td></td>\n",
       "      <td>-</td>\n",
       "    </tr>\n",
       "    <tr>\n",
       "      <th>'flipper_length_mm'</th>\n",
       "      <td>FLOAT</td>\n",
       "      <td>required</td>\n",
       "      <td></td>\n",
       "      <td>-</td>\n",
       "    </tr>\n",
       "    <tr>\n",
       "      <th>'island'</th>\n",
       "      <td>STRING</td>\n",
       "      <td>required</td>\n",
       "      <td></td>\n",
       "      <td>'island'</td>\n",
       "    </tr>\n",
       "    <tr>\n",
       "      <th>'sex'</th>\n",
       "      <td>STRING</td>\n",
       "      <td>required</td>\n",
       "      <td></td>\n",
       "      <td>'sex'</td>\n",
       "    </tr>\n",
       "    <tr>\n",
       "      <th>'species'</th>\n",
       "      <td>INT</td>\n",
       "      <td>required</td>\n",
       "      <td></td>\n",
       "      <td>-</td>\n",
       "    </tr>\n",
       "    <tr>\n",
       "      <th>'year'</th>\n",
       "      <td>INT</td>\n",
       "      <td>required</td>\n",
       "      <td></td>\n",
       "      <td>-</td>\n",
       "    </tr>\n",
       "  </tbody>\n",
       "</table>\n",
       "</div>"
      ],
      "text/plain": [
       "                       Type  Presence Valency    Domain\n",
       "Feature name                                           \n",
       "'bill_depth_mm'      FLOAT   required          -       \n",
       "'bill_length_mm'     FLOAT   required          -       \n",
       "'body_mass_g'        FLOAT   required          -       \n",
       "'flipper_length_mm'  FLOAT   required          -       \n",
       "'island'             STRING  required          'island'\n",
       "'sex'                STRING  required          'sex'   \n",
       "'species'            INT     required          -       \n",
       "'year'               INT     required          -       "
      ]
     },
     "metadata": {},
     "output_type": "display_data"
    },
    {
     "name": "stderr",
     "output_type": "stream",
     "text": [
      "/Users/robertfu/Projects/tfx-e2e/penguin-pipeline/.venv/lib/python3.8/site-packages/tensorflow_data_validation/utils/display_util.py:180: FutureWarning: Passing a negative integer is deprecated in version 1.0 and will not be supported in future version. Instead, use None to not limit the column width.\n",
      "  pd.set_option('max_colwidth', -1)\n"
     ]
    },
    {
     "data": {
      "text/html": [
       "<div>\n",
       "<style scoped>\n",
       "    .dataframe tbody tr th:only-of-type {\n",
       "        vertical-align: middle;\n",
       "    }\n",
       "\n",
       "    .dataframe tbody tr th {\n",
       "        vertical-align: top;\n",
       "    }\n",
       "\n",
       "    .dataframe thead th {\n",
       "        text-align: right;\n",
       "    }\n",
       "</style>\n",
       "<table border=\"1\" class=\"dataframe\">\n",
       "  <thead>\n",
       "    <tr style=\"text-align: right;\">\n",
       "      <th></th>\n",
       "      <th>Values</th>\n",
       "    </tr>\n",
       "    <tr>\n",
       "      <th>Domain</th>\n",
       "      <th></th>\n",
       "    </tr>\n",
       "  </thead>\n",
       "  <tbody>\n",
       "    <tr>\n",
       "      <th>'island'</th>\n",
       "      <td>'Biscoe', 'Dream', 'Torgersen'</td>\n",
       "    </tr>\n",
       "    <tr>\n",
       "      <th>'sex'</th>\n",
       "      <td>'female', 'male'</td>\n",
       "    </tr>\n",
       "  </tbody>\n",
       "</table>\n",
       "</div>"
      ],
      "text/plain": [
       "                                  Values\n",
       "Domain                                  \n",
       "'island'  'Biscoe', 'Dream', 'Torgersen'\n",
       "'sex'     'female', 'male'              "
      ]
     },
     "metadata": {},
     "output_type": "display_data"
    }
   ],
   "source": [
    "# load generated schema from SchemaGen\n",
    "schema = tfdv.load_schema_text(schema_file)\n",
    "tfdv.display_schema(schema=schema)"
   ]
  },
  {
   "cell_type": "code",
   "execution_count": 67,
   "metadata": {},
   "outputs": [
    {
     "name": "stderr",
     "output_type": "stream",
     "text": [
      "/Users/robertfu/Projects/tfx-e2e/penguin-pipeline/.venv/lib/python3.8/site-packages/tensorflow_data_validation/utils/display_util.py:217: FutureWarning: Passing a negative integer is deprecated in version 1.0 and will not be supported in future version. Instead, use None to not limit the column width.\n",
      "  pd.set_option('max_colwidth', -1)\n"
     ]
    },
    {
     "data": {
      "text/html": [
       "<h4 style=\"color:green;\">No anomalies found.</h4>"
      ],
      "text/plain": [
       "<IPython.core.display.HTML object>"
      ]
     },
     "metadata": {},
     "output_type": "display_data"
    }
   ],
   "source": [
    "anomalies = tfdv.validate_statistics(statistics=train_stats, schema=schema)\n",
    "tfdv.display_anomalies(anomalies)"
   ]
  },
  {
   "cell_type": "code",
   "execution_count": null,
   "metadata": {},
   "outputs": [],
   "source": []
  }
 ],
 "metadata": {
  "kernelspec": {
   "display_name": "Python 3 (ipykernel)",
   "language": "python",
   "name": "python3"
  },
  "language_info": {
   "codemirror_mode": {
    "name": "ipython",
    "version": 3
   },
   "file_extension": ".py",
   "mimetype": "text/x-python",
   "name": "python",
   "nbconvert_exporter": "python",
   "pygments_lexer": "ipython3",
   "version": "3.8.2"
  }
 },
 "nbformat": 4,
 "nbformat_minor": 4
}
