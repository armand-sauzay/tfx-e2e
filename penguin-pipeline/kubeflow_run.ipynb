{
 "cells": [
  {
   "cell_type": "code",
   "execution_count": 29,
   "id": "3c064763",
   "metadata": {},
   "outputs": [],
   "source": [
    "ENDPOINT = \"http://localhost:8080\""
   ]
  },
  {
   "cell_type": "code",
   "execution_count": 18,
   "id": "acf5b696",
   "metadata": {},
   "outputs": [
    {
     "name": "stdout",
     "output_type": "stream",
     "text": [
      "CLI\n",
      "Compiling pipeline\n",
      "running bdist_wheel\n",
      "running build\n",
      "running build_py\n",
      "creating build\n",
      "creating build/lib\n",
      "copying penguin_trainer_rf.py -> build/lib\n",
      "installing to /var/folders/bz/529zv46j48996vsv0sz6vssr0000gn/T/tmp_8neqtx_\n",
      "running install\n",
      "running install_lib\n",
      "copying build/lib/penguin_trainer_rf.py -> /var/folders/bz/529zv46j48996vsv0sz6vssr0000gn/T/tmp_8neqtx_\n",
      "running install_egg_info\n",
      "running egg_info\n",
      "creating tfx_user_code_Trainer.egg-info\n",
      "writing tfx_user_code_Trainer.egg-info/PKG-INFO\n",
      "writing dependency_links to tfx_user_code_Trainer.egg-info/dependency_links.txt\n",
      "writing top-level names to tfx_user_code_Trainer.egg-info/top_level.txt\n",
      "writing manifest file 'tfx_user_code_Trainer.egg-info/SOURCES.txt'\n",
      "reading manifest file 'tfx_user_code_Trainer.egg-info/SOURCES.txt'\n",
      "writing manifest file 'tfx_user_code_Trainer.egg-info/SOURCES.txt'\n",
      "Copying tfx_user_code_Trainer.egg-info to /var/folders/bz/529zv46j48996vsv0sz6vssr0000gn/T/tmp_8neqtx_/tfx_user_code_Trainer-0.0+91e325ede5efd3e94b2dc37670b4a6ccabb853850710a772a3fa94324891c0b7-py3.8.egg-info\n",
      "running install_scripts\n",
      "creating /var/folders/bz/529zv46j48996vsv0sz6vssr0000gn/T/tmp_8neqtx_/tfx_user_code_Trainer-0.0+91e325ede5efd3e94b2dc37670b4a6ccabb853850710a772a3fa94324891c0b7.dist-info/WHEEL\n",
      "creating '/var/folders/bz/529zv46j48996vsv0sz6vssr0000gn/T/tmpyzyrf3n2/tfx_user_code_Trainer-0.0+91e325ede5efd3e94b2dc37670b4a6ccabb853850710a772a3fa94324891c0b7-py3-none-any.whl' and adding '/var/folders/bz/529zv46j48996vsv0sz6vssr0000gn/T/tmp_8neqtx_' to it\n",
      "adding 'penguin_trainer_rf.py'\n",
      "adding 'tfx_user_code_Trainer-0.0+91e325ede5efd3e94b2dc37670b4a6ccabb853850710a772a3fa94324891c0b7.dist-info/METADATA'\n",
      "adding 'tfx_user_code_Trainer-0.0+91e325ede5efd3e94b2dc37670b4a6ccabb853850710a772a3fa94324891c0b7.dist-info/WHEEL'\n",
      "adding 'tfx_user_code_Trainer-0.0+91e325ede5efd3e94b2dc37670b4a6ccabb853850710a772a3fa94324891c0b7.dist-info/top_level.txt'\n",
      "adding 'tfx_user_code_Trainer-0.0+91e325ede5efd3e94b2dc37670b4a6ccabb853850710a772a3fa94324891c0b7.dist-info/RECORD'\n",
      "removing /var/folders/bz/529zv46j48996vsv0sz6vssr0000gn/T/tmp_8neqtx_\n",
      "/Users/robertfu/Projects/tfx-e2e/penguin-pipeline/.venv/lib/python3.8/site-packages/kfp/dsl/_container_op.py:1207: FutureWarning: Please create reusable components instead of constructing ContainerOp instances directly. Reusable components are shareable, portable and have compatibility and support guarantees. Please see the documentation: https://www.kubeflow.org/docs/pipelines/sdk/component-development/#writing-your-component-definition-file The components can be created manually (or, in case of python, using kfp.components.create_component_from_func or func_to_container_op) and then loaded using kfp.components.load_component_from_file, load_component_from_uri or load_component_from_text: https://kubeflow-pipelines.readthedocs.io/en/stable/source/kfp.components.html#kfp.components.load_component_from_file\n",
      "  warnings.warn(\n",
      "Pipeline compiled successfully.\n",
      "Pipeline package path: /Users/robertfu/Projects/tfx-e2e/penguin-pipeline/penguin-e2e.tar.gz\n",
      "\u001b[0m"
     ]
    }
   ],
   "source": [
    "!tfx pipeline compile --engine=kubeflow --pipeline_path=kubeflow_e2e_runner.py"
   ]
  },
  {
   "cell_type": "code",
   "execution_count": null,
   "id": "8302ff03",
   "metadata": {},
   "outputs": [
    {
     "name": "stdout",
     "output_type": "stream",
     "text": [
      "CLI\n",
      "Creating pipeline\n",
      "Detected Kubeflow.\n",
      "Use --engine flag if you intend to use a different orchestrator.\n",
      "[Docker] Step 1/6 : FROM python:3.8.11-slim-buster[Docker] \n",
      "[Docker]  ---> 4594dc5e9028\n",
      "[Docker] Step 2/6 : RUN apt update[Docker] \n",
      "[Docker]  ---> Using cache\n",
      "[Docker]  ---> 9e451002350d\n",
      "[Docker] Step 3/6 : RUN apt install -y gcc g++     && apt-get autoremove -yqq --purge     && apt-get clean     && rm -rf /var/lib/apt/lists/*[Docker] \n",
      "[Docker]  ---> Using cache\n",
      "[Docker]  ---> 58a911331282\n",
      "[Docker] Step 4/6 : RUN pip install pipenv[Docker] \n",
      "[Docker]  ---> Using cache\n",
      "[Docker]  ---> 076bbf7fe5d9\n",
      "[Docker] Step 5/6 : COPY ./Pipfile /Pipfile[Docker] \n",
      "[Docker]  ---> e4e10ee8fdf8\n",
      "[Docker] Step 6/6 : RUN pipenv install --system --skip-lock[Docker] \n",
      "[Docker]  ---> Running in 28af5711fcb4\n",
      "[Docker] Installing dependencies from Pipfile...\n",
      "[Docker] \u001b[91mAn error occurred while installing tfx==1.0.0! Will try again.\n",
      "\u001b[0m[Docker] Installing initially failed dependencies...\n"
     ]
    }
   ],
   "source": [
    "!tfx pipeline create  \\\n",
    "--pipeline-path=kubeflow_e2e_runner.py \\\n",
    "--endpoint={ENDPOINT} \\\n",
    "--build-image\n"
   ]
  },
  {
   "cell_type": "code",
   "execution_count": null,
   "id": "b432af4a",
   "metadata": {},
   "outputs": [],
   "source": []
  },
  {
   "cell_type": "code",
   "execution_count": null,
   "id": "b0336336",
   "metadata": {},
   "outputs": [],
   "source": []
  }
 ],
 "metadata": {
  "interpreter": {
   "hash": "1e64235362b4bce38859efec06bbd24dafab4dadcfd37a0f4f232e16175a6897"
  },
  "kernelspec": {
   "display_name": "Python 3 (ipykernel)",
   "language": "python",
   "name": "python3"
  },
  "language_info": {
   "codemirror_mode": {
    "name": "ipython",
    "version": 3
   },
   "file_extension": ".py",
   "mimetype": "text/x-python",
   "name": "python",
   "nbconvert_exporter": "python",
   "pygments_lexer": "ipython3",
   "version": "3.8.2"
  }
 },
 "nbformat": 4,
 "nbformat_minor": 5
}
