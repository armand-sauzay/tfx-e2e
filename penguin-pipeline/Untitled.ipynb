{
 "cells": [
  {
   "cell_type": "code",
   "execution_count": 4,
   "id": "b6a5951f-f768-4302-9dc1-6d81b65440a0",
   "metadata": {},
   "outputs": [],
   "source": [
    "# import required libs\n",
    "import glob\n",
    "import os\n",
    "\n",
    "import tensorflow as tf\n",
    "import tensorflow_model_analysis as tfma\n",
    "from pipeline.config import pipe_config"
   ]
  },
  {
   "cell_type": "code",
   "execution_count": 5,
   "id": "b0e5f1b2-0f00-4f2f-b3f0-7f67acd92bf9",
   "metadata": {},
   "outputs": [],
   "source": [
    "from tfx.orchestration import metadata\n",
    "from tfx.types import standard_artifacts\n",
    "\n",
    "metadata_connection_config = metadata.sqlite_metadata_connection_config(\n",
    "              pipe_config.METADATA_PATH)\n",
    "with metadata.Metadata(metadata_connection_config) as store:\n",
    "    model_eval_artifacts = store.get_artifacts_by_type(standard_artifacts.ModelEvaluation.TYPE_NAME)"
   ]
  },
  {
   "cell_type": "code",
   "execution_count": 6,
   "id": "bcfb4df0-72b6-4a23-b4f4-ea9117164e7c",
   "metadata": {},
   "outputs": [
    {
     "name": "stdout",
     "output_type": "stream",
     "text": [
      "Generated model evaluation result:pipeline_output/penguin-e2e/Evaluator/evaluation/30\n"
     ]
    }
   ],
   "source": [
    "model_eval_path = model_eval_artifacts[-1].uri\n",
    "print(\"Generated model evaluation result:{}\".format(model_eval_path))"
   ]
  },
  {
   "cell_type": "code",
   "execution_count": 8,
   "id": "e1fbef9f-5bcb-4222-8ac1-bd4c37122c9a",
   "metadata": {},
   "outputs": [
    {
     "data": {
      "application/vnd.jupyter.widget-view+json": {
       "model_id": "9c3cf0a605db44a8910cdb380e64b339",
       "version_major": 2,
       "version_minor": 0
      },
      "text/plain": [
       "SlicingMetricsViewer(config={'weightedExamplesColumn': 'example_count'}, data=[{'slice': 'sex:male', 'metrics'…"
      ]
     },
     "metadata": {},
     "output_type": "display_data"
    }
   ],
   "source": [
    "eval_result = tfma.load_eval_result(model_eval_path)\n",
    "tfma.view.render_slicing_metrics(eval_result, slicing_spec = tfma.slicer.SingleSliceSpec(columns=['sex']))"
   ]
  },
  {
   "cell_type": "code",
   "execution_count": 9,
   "id": "ef43a288-70d3-428f-b775-bf5fc82aba15",
   "metadata": {},
   "outputs": [
    {
     "data": {
      "text/plain": [
       "validation_ok: true\n",
       "validation_details {\n",
       "  slicing_details {\n",
       "    slicing_spec {\n",
       "    }\n",
       "    num_matching_slices: 3\n",
       "  }\n",
       "}"
      ]
     },
     "execution_count": 9,
     "metadata": {},
     "output_type": "execute_result"
    }
   ],
   "source": [
    "tfma.load_validation_result(model_eval_path)"
   ]
  },
  {
   "cell_type": "code",
   "execution_count": 10,
   "id": "e1c9c983-f8ac-49ea-9ca9-fcbe4c429b3a",
   "metadata": {},
   "outputs": [
    {
     "ename": "NameError",
     "evalue": "name 'MODELS_DIR' is not defined",
     "output_type": "error",
     "traceback": [
      "\u001b[0;31m---------------------------------------------------------------------------\u001b[0m",
      "\u001b[0;31mNameError\u001b[0m                                 Traceback (most recent call last)",
      "\u001b[0;32m/var/folders/fj/ndwm41hx2m59b8t85yls8rl00000gn/T/ipykernel_19663/809064741.py\u001b[0m in \u001b[0;36m<module>\u001b[0;34m\u001b[0m\n\u001b[1;32m      6\u001b[0m   \u001b[0;31m# Create a tfma.EvalSharedModel that points at our saved model.\u001b[0m\u001b[0;34m\u001b[0m\u001b[0;34m\u001b[0m\u001b[0;34m\u001b[0m\u001b[0m\n\u001b[1;32m      7\u001b[0m   eval_shared_model = tfma.default_eval_shared_model(\n\u001b[0;32m----> 8\u001b[0;31m       \u001b[0meval_saved_model_path\u001b[0m\u001b[0;34m=\u001b[0m\u001b[0mos\u001b[0m\u001b[0;34m.\u001b[0m\u001b[0mpath\u001b[0m\u001b[0;34m.\u001b[0m\u001b[0mjoin\u001b[0m\u001b[0;34m(\u001b[0m\u001b[0mMODELS_DIR\u001b[0m\u001b[0;34m,\u001b[0m \u001b[0;34m'keras'\u001b[0m\u001b[0;34m,\u001b[0m \u001b[0mstr\u001b[0m\u001b[0;34m(\u001b[0m\u001b[0mi\u001b[0m\u001b[0;34m)\u001b[0m\u001b[0;34m)\u001b[0m\u001b[0;34m,\u001b[0m\u001b[0;34m\u001b[0m\u001b[0;34m\u001b[0m\u001b[0m\n\u001b[0m\u001b[1;32m      9\u001b[0m       eval_config=keras_eval_config)\n\u001b[1;32m     10\u001b[0m \u001b[0;34m\u001b[0m\u001b[0m\n",
      "\u001b[0;31mNameError\u001b[0m: name 'MODELS_DIR' is not defined"
     ]
    }
   ],
   "source": [
    "# Note this re-uses the EvalConfig from the keras setup.\n",
    "\n",
    "# Run eval on each saved model\n",
    "output_paths = []\n",
    "for i in range(2):\n",
    "  # Create a tfma.EvalSharedModel that points at our saved model.\n",
    "  eval_shared_model = tfma.default_eval_shared_model(\n",
    "      eval_saved_model_path=os.path.join(MODELS_DIR, 'keras', str(i)),\n",
    "      eval_config=keras_eval_config)\n",
    "\n",
    "  output_path = os.path.join(OUTPUT_DIR, 'time_series', str(i))\n",
    "  output_paths.append(output_path)\n",
    "\n",
    "  # Run TFMA\n",
    "  tfma.run_model_analysis(eval_shared_model=eval_shared_model,\n",
    "                          eval_config=keras_eval_config,\n",
    "                          data_location=tfrecord_file,\n",
    "                          output_path=output_path)"
   ]
  },
  {
   "cell_type": "code",
   "execution_count": null,
   "id": "a8b8dab5-5155-490b-8fed-528fd4db864f",
   "metadata": {},
   "outputs": [],
   "source": []
  }
 ],
 "metadata": {
  "kernelspec": {
   "display_name": "Python 3 (ipykernel)",
   "language": "python",
   "name": "python3"
  },
  "language_info": {
   "codemirror_mode": {
    "name": "ipython",
    "version": 3
   },
   "file_extension": ".py",
   "mimetype": "text/x-python",
   "name": "python",
   "nbconvert_exporter": "python",
   "pygments_lexer": "ipython3",
   "version": "3.8.2"
  }
 },
 "nbformat": 4,
 "nbformat_minor": 5
}
