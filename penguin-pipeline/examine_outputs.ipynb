{
 "cells": [
  {
   "cell_type": "markdown",
   "id": "ea37e022",
   "metadata": {},
   "source": [
    "Runs post pipeline analysis"
   ]
  },
  {
   "cell_type": "code",
   "execution_count": 36,
   "id": "bd2939fd",
   "metadata": {},
   "outputs": [],
   "source": [
    "from tfx import v1 as tfx\n",
    "from pipeline.config import pipe_config\n",
    "# import tensorflow_decision_forests as tfdf"
   ]
  },
  {
   "cell_type": "code",
   "execution_count": 37,
   "id": "467da33e",
   "metadata": {},
   "outputs": [],
   "source": [
    "from tfx.orchestration.experimental.interactive import visualizations\n",
    "\n",
    "def visualize_artifacts(artifacts):\n",
    "  \"\"\"Visualizes artifacts using standard visualization modules.\"\"\"\n",
    "  for artifact in artifacts:\n",
    "    visualization = visualizations.get_registry().get_visualization(\n",
    "        artifact.type_name)\n",
    "    if visualization:\n",
    "      visualization.display(artifact)\n",
    "\n",
    "from tfx.orchestration.experimental.interactive import standard_visualizations\n",
    "standard_visualizations.register_standard_visualizations()"
   ]
  },
  {
   "cell_type": "markdown",
   "id": "8737f6cd",
   "metadata": {},
   "source": [
    "# Connect to Pipeline output"
   ]
  },
  {
   "cell_type": "code",
   "execution_count": 38,
   "id": "26e5bae0",
   "metadata": {},
   "outputs": [],
   "source": [
    "metadata_connection_config = tfx.orchestration.metadata.sqlite_metadata_connection_config(\n",
    "    pipe_config.METADATA_PATH)"
   ]
  },
  {
   "cell_type": "code",
   "execution_count": 77,
   "id": "a02ca921",
   "metadata": {},
   "outputs": [],
   "source": [
    "from pipeline.schema_pipeline.utils import get_latest_artifacts\n",
    "from tfx.orchestration.metadata import Metadata\n",
    "from tfx.types import standard_component_specs\n",
    "\n",
    "with Metadata(metadata_connection_config) as metadata_handler:\n",
    "    stat_gen_output = get_latest_artifacts(metadata_handler, pipe_config.PIPELINE_NAME,\n",
    "                                         'StatisticsGen')\n",
    "    stats_artifacts = stat_gen_output[standard_component_specs.STATISTICS_KEY]\n",
    "\n",
    "    ev_output = get_latest_artifacts(metadata_handler, pipe_config.PIPELINE_NAME,\n",
    "                                   'ExampleValidator')\n",
    "    anomalies_artifacts = ev_output[standard_component_specs.ANOMALIES_KEY]\n",
    "\n",
    "    trainer_outputs = get_latest_artifacts(metadata_handler, pipe_config.PIPELINE_NAME,\n",
    "                                          'Trainer')\n",
    "    example_gen_outputs = get_latest_artifacts(metadata_handler, pipe_config.PIPELINE_NAME,\n",
    "                                          'CsvExampleGen')\n",
    "    evaluator_outputs = get_latest_artifacts(metadata_handler, pipe_config.PIPELINE_NAME,\n",
    "                                          'Evaluator')\n",
    "    eval_artifact = evaluator_outputs[standard_component_specs.EVALUATION_KEY][0]\n",
    "    pusher_outputs = get_latest_artifacts(metadata_handler, pipe_config.PIPELINE_NAME,\n",
    "                                          'Pusher')\n",
    "    "
   ]
  },
  {
   "cell_type": "code",
   "execution_count": 78,
   "id": "e7505f6b",
   "metadata": {},
   "outputs": [
    {
     "data": {
      "text/html": [
       "<iframe id='facets-iframe' width=\"100%\" height=\"500px\"></iframe>\n",
       "        <script>\n",
       "        facets_iframe = document.getElementById('facets-iframe');\n",
       "        facets_html = '<script src=\"https://cdnjs.cloudflare.com/ajax/libs/webcomponentsjs/1.3.3/webcomponents-lite.js\"><\\/script><link rel=\"import\" href=\"https://raw.githubusercontent.com/PAIR-code/facets/master/facets-dist/facets-jupyter.html\"><facets-overview proto-input=\"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\"></facets-overview>';\n",
       "        facets_iframe.srcdoc = facets_html;\n",
       "         facets_iframe.id = \"\";\n",
       "         setTimeout(() => {\n",
       "           facets_iframe.setAttribute('height', facets_iframe.contentWindow.document.body.offsetHeight + 'px')\n",
       "         }, 1500)\n",
       "         </script>"
      ],
      "text/plain": [
       "<IPython.core.display.HTML object>"
      ]
     },
     "metadata": {},
     "output_type": "display_data"
    }
   ],
   "source": [
    "import tensorflow_data_validation as tfdv\n",
    "import os\n",
    "path1 = os.path.join(stats_artifacts[0].uri,'Split-train/FeatureStats.pb')\n",
    "path2 = os.path.join(stats_artifacts[0].uri,'Split-eval/FeatureStats.pb')\n",
    "stats1 = tfdv.load_stats_binary(path1)\n",
    "stats2 = tfdv.load_stats_binary(path2)\n",
    "\n",
    "tfdv.visualize_statistics(stats1, stats2)"
   ]
  },
  {
   "cell_type": "markdown",
   "id": "c5250be9",
   "metadata": {},
   "source": [
    "## Example Validator"
   ]
  },
  {
   "cell_type": "code",
   "execution_count": 79,
   "id": "ffa38a00",
   "metadata": {},
   "outputs": [
    {
     "data": {
      "text/html": [
       "<div>\n",
       "<style scoped>\n",
       "    .dataframe tbody tr th:only-of-type {\n",
       "        vertical-align: middle;\n",
       "    }\n",
       "\n",
       "    .dataframe tbody tr th {\n",
       "        vertical-align: top;\n",
       "    }\n",
       "\n",
       "    .dataframe thead th {\n",
       "        text-align: right;\n",
       "    }\n",
       "</style>\n",
       "<table border=\"1\" class=\"dataframe\">\n",
       "  <thead>\n",
       "    <tr style=\"text-align: right;\">\n",
       "      <th></th>\n",
       "      <th>Type</th>\n",
       "      <th>Presence</th>\n",
       "      <th>Valency</th>\n",
       "      <th>Domain</th>\n",
       "    </tr>\n",
       "    <tr>\n",
       "      <th>Feature name</th>\n",
       "      <th></th>\n",
       "      <th></th>\n",
       "      <th></th>\n",
       "      <th></th>\n",
       "    </tr>\n",
       "  </thead>\n",
       "  <tbody>\n",
       "    <tr>\n",
       "      <th>'bill_depth_mm'</th>\n",
       "      <td>FLOAT</td>\n",
       "      <td>required</td>\n",
       "      <td></td>\n",
       "      <td>-</td>\n",
       "    </tr>\n",
       "    <tr>\n",
       "      <th>'bill_length_mm'</th>\n",
       "      <td>FLOAT</td>\n",
       "      <td>required</td>\n",
       "      <td></td>\n",
       "      <td>-</td>\n",
       "    </tr>\n",
       "    <tr>\n",
       "      <th>'body_mass_g'</th>\n",
       "      <td>FLOAT</td>\n",
       "      <td>required</td>\n",
       "      <td></td>\n",
       "      <td>-</td>\n",
       "    </tr>\n",
       "    <tr>\n",
       "      <th>'flipper_length_mm'</th>\n",
       "      <td>FLOAT</td>\n",
       "      <td>required</td>\n",
       "      <td></td>\n",
       "      <td>-</td>\n",
       "    </tr>\n",
       "    <tr>\n",
       "      <th>'island'</th>\n",
       "      <td>STRING</td>\n",
       "      <td>required</td>\n",
       "      <td></td>\n",
       "      <td>'island'</td>\n",
       "    </tr>\n",
       "    <tr>\n",
       "      <th>'sex'</th>\n",
       "      <td>STRING</td>\n",
       "      <td>required</td>\n",
       "      <td></td>\n",
       "      <td>'sex'</td>\n",
       "    </tr>\n",
       "    <tr>\n",
       "      <th>'species'</th>\n",
       "      <td>INT</td>\n",
       "      <td>required</td>\n",
       "      <td></td>\n",
       "      <td>-</td>\n",
       "    </tr>\n",
       "    <tr>\n",
       "      <th>'year'</th>\n",
       "      <td>INT</td>\n",
       "      <td>required</td>\n",
       "      <td></td>\n",
       "      <td>-</td>\n",
       "    </tr>\n",
       "  </tbody>\n",
       "</table>\n",
       "</div>"
      ],
      "text/plain": [
       "                       Type  Presence Valency    Domain\n",
       "Feature name                                           \n",
       "'bill_depth_mm'      FLOAT   required          -       \n",
       "'bill_length_mm'     FLOAT   required          -       \n",
       "'body_mass_g'        FLOAT   required          -       \n",
       "'flipper_length_mm'  FLOAT   required          -       \n",
       "'island'             STRING  required          'island'\n",
       "'sex'                STRING  required          'sex'   \n",
       "'species'            INT     required          -       \n",
       "'year'               INT     required          -       "
      ]
     },
     "metadata": {},
     "output_type": "display_data"
    },
    {
     "name": "stderr",
     "output_type": "stream",
     "text": [
      "/usr/local/lib/python3.8/site-packages/tensorflow_data_validation/utils/display_util.py:180: FutureWarning: Passing a negative integer is deprecated in version 1.0 and will not be supported in future version. Instead, use None to not limit the column width.\n",
      "  pd.set_option('max_colwidth', -1)\n"
     ]
    },
    {
     "data": {
      "text/html": [
       "<div>\n",
       "<style scoped>\n",
       "    .dataframe tbody tr th:only-of-type {\n",
       "        vertical-align: middle;\n",
       "    }\n",
       "\n",
       "    .dataframe tbody tr th {\n",
       "        vertical-align: top;\n",
       "    }\n",
       "\n",
       "    .dataframe thead th {\n",
       "        text-align: right;\n",
       "    }\n",
       "</style>\n",
       "<table border=\"1\" class=\"dataframe\">\n",
       "  <thead>\n",
       "    <tr style=\"text-align: right;\">\n",
       "      <th></th>\n",
       "      <th>Values</th>\n",
       "    </tr>\n",
       "    <tr>\n",
       "      <th>Domain</th>\n",
       "      <th></th>\n",
       "    </tr>\n",
       "  </thead>\n",
       "  <tbody>\n",
       "    <tr>\n",
       "      <th>'island'</th>\n",
       "      <td>'Biscoe', 'Dream', 'Torgersen'</td>\n",
       "    </tr>\n",
       "    <tr>\n",
       "      <th>'sex'</th>\n",
       "      <td>'female', 'male'</td>\n",
       "    </tr>\n",
       "  </tbody>\n",
       "</table>\n",
       "</div>"
      ],
      "text/plain": [
       "                                  Values\n",
       "Domain                                  \n",
       "'island'  'Biscoe', 'Dream', 'Torgersen'\n",
       "'sex'     'female', 'male'              "
      ]
     },
     "metadata": {},
     "output_type": "display_data"
    }
   ],
   "source": [
    "schema = tfdv.load_schema_text('./schema/penguin-schema/schema.pbtxt/schema.pbtxt')\n",
    "tfdv.display_schema(schema)"
   ]
  },
  {
   "cell_type": "code",
   "execution_count": 80,
   "id": "61db6778",
   "metadata": {},
   "outputs": [
    {
     "data": {
      "text/html": [
       "<div><b>'train' split:</b></div><br/>"
      ],
      "text/plain": [
       "<IPython.core.display.HTML object>"
      ]
     },
     "metadata": {},
     "output_type": "display_data"
    },
    {
     "name": "stderr",
     "output_type": "stream",
     "text": [
      "/usr/local/lib/python3.8/site-packages/tensorflow_data_validation/utils/display_util.py:217: FutureWarning: Passing a negative integer is deprecated in version 1.0 and will not be supported in future version. Instead, use None to not limit the column width.\n",
      "  pd.set_option('max_colwidth', -1)\n"
     ]
    },
    {
     "data": {
      "text/html": [
       "<h4 style=\"color:green;\">No anomalies found.</h4>"
      ],
      "text/plain": [
       "<IPython.core.display.HTML object>"
      ]
     },
     "metadata": {},
     "output_type": "display_data"
    },
    {
     "data": {
      "text/html": [
       "<div><b>'eval' split:</b></div><br/>"
      ],
      "text/plain": [
       "<IPython.core.display.HTML object>"
      ]
     },
     "metadata": {},
     "output_type": "display_data"
    },
    {
     "data": {
      "text/html": [
       "<h4 style=\"color:green;\">No anomalies found.</h4>"
      ],
      "text/plain": [
       "<IPython.core.display.HTML object>"
      ]
     },
     "metadata": {},
     "output_type": "display_data"
    }
   ],
   "source": [
    "visualize_artifacts(anomalies_artifacts)"
   ]
  },
  {
   "cell_type": "markdown",
   "id": "7a6a3325",
   "metadata": {},
   "source": [
    "## Trainer"
   ]
  },
  {
   "cell_type": "code",
   "execution_count": 81,
   "id": "d4ed84b8",
   "metadata": {},
   "outputs": [
    {
     "data": {
      "text/plain": [
       "'pipeline_output/penguin-e2e/Trainer/model_run/21'"
      ]
     },
     "execution_count": 81,
     "metadata": {},
     "output_type": "execute_result"
    }
   ],
   "source": [
    "model_run_artifact_dir = trainer_outputs['model_run'][0].uri\n",
    "model_run_artifact_dir"
   ]
  },
  {
   "cell_type": "code",
   "execution_count": 82,
   "id": "12a4ec74",
   "metadata": {},
   "outputs": [
    {
     "data": {
      "text/html": [
       "\n",
       "      <iframe id=\"tensorboard-frame-925d84f46c9351c4\" width=\"100%\" height=\"800\" frameborder=\"0\">\n",
       "      </iframe>\n",
       "      <script>\n",
       "        (function() {\n",
       "          const frame = document.getElementById(\"tensorboard-frame-925d84f46c9351c4\");\n",
       "          const url = new URL(\"/\", window.location);\n",
       "          const port = 6009;\n",
       "          if (port) {\n",
       "            url.port = port;\n",
       "          }\n",
       "          frame.src = url;\n",
       "        })();\n",
       "      </script>\n",
       "    "
      ],
      "text/plain": [
       "<IPython.core.display.HTML object>"
      ]
     },
     "metadata": {},
     "output_type": "display_data"
    }
   ],
   "source": [
    "# %reload_ext tensorboard\n",
    "%tensorboard --logdir {model_run_artifact_dir} "
   ]
  },
  {
   "cell_type": "markdown",
   "id": "b60cd17f",
   "metadata": {},
   "source": [
    "## Evaluator"
   ]
  },
  {
   "cell_type": "code",
   "execution_count": 83,
   "id": "ccc9624d",
   "metadata": {},
   "outputs": [],
   "source": [
    "import tensorflow_model_analysis as tfma"
   ]
  },
  {
   "cell_type": "code",
   "execution_count": 84,
   "id": "e27c3322",
   "metadata": {},
   "outputs": [],
   "source": [
    "# !jupyter nbextension enable --py widgetsnbextension\n",
    "# !jupyter nbextension enable --py tensorflow_model_analysis\n",
    "# !jupyter labextension install tensorflow_model_analysis@0.33.0"
   ]
  },
  {
   "cell_type": "code",
   "execution_count": 85,
   "id": "24abc4b5",
   "metadata": {},
   "outputs": [
    {
     "name": "stdout",
     "output_type": "stream",
     "text": [
      "Known nbextensions:\n",
      "  config dir: /usr/local/etc/jupyter/nbconfig\n",
      "    notebook section\n",
      "      jupyter-js-widgets/extension  enabled \n",
      "      - Validating: OK\n",
      "JupyterLab v3.0.0\n",
      "/usr/local/share/jupyter/labextensions\n",
      "        @jupyter-widgets/jupyterlab-manager v3.0.0 enabled OK (python, jupyterlab_widgets)\n",
      "\n",
      "Other labextensions (built into JupyterLab)\n",
      "   app dir: /usr/local/share/jupyter/lab\n",
      "        tensorflow_model_analysis v0.33.0 enabled OK\n",
      "\n"
     ]
    }
   ],
   "source": [
    "!jupyter nbextension list\n",
    "!jupyter labextension list  # for JupyterLab\n"
   ]
  },
  {
   "cell_type": "code",
   "execution_count": 86,
   "id": "180dd20c",
   "metadata": {},
   "outputs": [],
   "source": [
    "eval_result = tfma.load_eval_result(eval_artifact.uri,model_name=\"candidate\")"
   ]
  },
  {
   "cell_type": "code",
   "execution_count": 87,
   "id": "86750566",
   "metadata": {},
   "outputs": [
    {
     "data": {
      "application/vnd.jupyter.widget-view+json": {
       "model_id": "933cf7da1fbd4e2d96e54449afca6da9",
       "version_major": 2,
       "version_minor": 0
      },
      "text/plain": [
       "SlicingMetricsViewer(config={'weightedExamplesColumn': 'example_count'}, data=[{'slice': 'Overall', 'metrics':…"
      ]
     },
     "metadata": {},
     "output_type": "display_data"
    }
   ],
   "source": [
    "tfma.view.render_slicing_metrics(eval_result)"
   ]
  },
  {
   "cell_type": "code",
   "execution_count": 88,
   "id": "859826f0",
   "metadata": {},
   "outputs": [
    {
     "data": {
      "application/vnd.jupyter.widget-view+json": {
       "model_id": "e00ed6ffde464ee7a0b5d0189c363d52",
       "version_major": 2,
       "version_minor": 0
      },
      "text/plain": [
       "SlicingMetricsViewer(config={'weightedExamplesColumn': 'example_count'}, data=[{'slice': 'sex:male', 'metrics'…"
      ]
     },
     "metadata": {},
     "output_type": "display_data"
    }
   ],
   "source": [
    "tfma.view.render_slicing_metrics(eval_result,slicing_column='sex')"
   ]
  },
  {
   "cell_type": "code",
   "execution_count": 89,
   "id": "746553cb",
   "metadata": {},
   "outputs": [
    {
     "data": {
      "application/vnd.jupyter.widget-view+json": {
       "model_id": "f5b1698ac3d046a187c6a4afb07d5595",
       "version_major": 2,
       "version_minor": 0
      },
      "text/plain": [
       "FairnessIndicatorViewer(slicingMetrics=[{'sliceValue': 'male', 'slice': 'sex:male', 'metrics': {'sparse_catego…"
      ]
     },
     "metadata": {},
     "output_type": "display_data"
    }
   ],
   "source": [
    "tfma.addons.fairness.view.widget_view.render_fairness_indicator(eval_result)"
   ]
  },
  {
   "cell_type": "code",
   "execution_count": 90,
   "id": "03b1cf5d",
   "metadata": {},
   "outputs": [
    {
     "data": {
      "application/vnd.jupyter.widget-view+json": {
       "model_id": "1ff58a74c5fa434a82ec2cc54929e03c",
       "version_major": 2,
       "version_minor": 0
      },
      "text/plain": [
       "PlotViewer(config={'sliceName': 'sex:male', 'metricKeys': {'calibrationPlot': {'metricName': 'calibrationHisto…"
      ]
     },
     "metadata": {},
     "output_type": "display_data"
    }
   ],
   "source": [
    "tfma.view.render_plot(eval_result, tfma.SlicingSpec(feature_values={\"sex\": \"male\"}))"
   ]
  },
  {
   "cell_type": "code",
   "execution_count": 91,
   "id": "32786be4",
   "metadata": {},
   "outputs": [
    {
     "data": {
      "application/vnd.jupyter.widget-view+json": {
       "model_id": "978107d71f054d9dbbfac55cd23ff4c2",
       "version_major": 2,
       "version_minor": 0
      },
      "text/plain": [
       "PlotViewer(config={'sliceName': 'Overall', 'metricKeys': {'calibrationPlot': {'metricName': 'calibrationHistog…"
      ]
     },
     "metadata": {},
     "output_type": "display_data"
    }
   ],
   "source": [
    "tfma.view.render_plot(eval_result, tfma.SlicingSpec()) # whole dataset"
   ]
  },
  {
   "cell_type": "code",
   "execution_count": 92,
   "id": "365ba19c",
   "metadata": {},
   "outputs": [
    {
     "name": "stdout",
     "output_type": "stream",
     "text": [
      "False\n"
     ]
    }
   ],
   "source": [
    "# Print validation result\n",
    "validation_output_path = os.path.join(eval_artifact.uri,'validations')\n",
    "validation_result = tfma.load_validation_result(validation_output_path)\n",
    "print(validation_result.validation_ok)"
   ]
  },
  {
   "cell_type": "markdown",
   "id": "d4965307",
   "metadata": {},
   "source": [
    "### Model performance over time"
   ]
  },
  {
   "cell_type": "code",
   "execution_count": 93,
   "id": "c0a7a35a",
   "metadata": {},
   "outputs": [
    {
     "data": {
      "text/plain": [
       "'pipeline_output/penguin-e2e/CsvExampleGen/examples/17'"
      ]
     },
     "execution_count": 93,
     "metadata": {},
     "output_type": "execute_result"
    }
   ],
   "source": [
    "example_gen_outputs['examples'][0].uri"
   ]
  },
  {
   "cell_type": "code",
   "execution_count": 94,
   "id": "38d696c9",
   "metadata": {},
   "outputs": [],
   "source": [
    "# from tfx.utils import proto_utils\n",
    "# import json\n",
    "\n",
    "# eval_config_path = os.path.join(eval_artifact.uri,'eval_config.json')\n",
    "# with open(eval_config_path) as f:\n",
    "#     eval_config_dict = json.load(f)\n",
    "\n",
    "    \n",
    "# eval_config = proto_utils.dict_to_proto(eval_config_dict['evalConfig'],tfma.EvalConfig())"
   ]
  },
  {
   "cell_type": "code",
   "execution_count": 95,
   "id": "3b63bbe1",
   "metadata": {},
   "outputs": [],
   "source": [
    "from google.protobuf import text_format\n",
    "\n",
    "# TODO how to create EvalConfig from eval_config.json from pipeline_output\n",
    "\n",
    "eval_config = text_format.Parse(\"\"\"\n",
    "  ## Model information\n",
    "  model_specs {\n",
    "    # For keras (and serving models), you need to add a `label_key`.\n",
    "    label_key: \"species\"\n",
    "  }\n",
    "\n",
    "  ## Post training metric information. These will be merged with any built-in\n",
    "  ## metrics from training.\n",
    "  metrics_specs {\n",
    "    metrics { class_name: \"ExampleCount\" }\n",
    "    metrics { class_name: \"SparseCategoricalAccuracy\" }\n",
    "    metrics { class_name: \"AUC\" }\n",
    "    metrics { class_name: \"AUCPrecisionRecall\" }\n",
    "    metrics { class_name: \"Precision\" }\n",
    "    metrics { class_name: \"Recall\" }\n",
    "    metrics { class_name: \"MeanLabel\" }\n",
    "    metrics { class_name: \"MeanPrediction\" }\n",
    "    metrics { class_name: \"Calibration\" }\n",
    "    metrics { class_name: \"CalibrationPlot\" }\n",
    "    metrics { class_name: \"ConfusionMatrixPlot\" }\n",
    "    # ... add additional metrics and plots ...\n",
    "  }\n",
    "\n",
    "  ## Slicing information\n",
    "\n",
    "  # overall slice\n",
    "  slicing_specs {}\n",
    "\n",
    "  # slice specific features\n",
    "  slicing_specs {\n",
    "    feature_keys: [\"sex\"]\n",
    "  }\n",
    "  slicing_specs {\n",
    "    feature_keys: [\"island\"]\n",
    "  }\n",
    "\"\"\", tfma.EvalConfig())"
   ]
  },
  {
   "cell_type": "code",
   "execution_count": 96,
   "id": "fa50de96",
   "metadata": {},
   "outputs": [
    {
     "data": {
      "text/plain": [
       "model_specs {\n",
       "  label_key: \"species\"\n",
       "}\n",
       "slicing_specs {\n",
       "}\n",
       "slicing_specs {\n",
       "  feature_keys: \"sex\"\n",
       "}\n",
       "slicing_specs {\n",
       "  feature_keys: \"island\"\n",
       "}\n",
       "metrics_specs {\n",
       "  metrics {\n",
       "    class_name: \"ExampleCount\"\n",
       "  }\n",
       "  metrics {\n",
       "    class_name: \"SparseCategoricalAccuracy\"\n",
       "  }\n",
       "  metrics {\n",
       "    class_name: \"AUC\"\n",
       "  }\n",
       "  metrics {\n",
       "    class_name: \"AUCPrecisionRecall\"\n",
       "  }\n",
       "  metrics {\n",
       "    class_name: \"Precision\"\n",
       "  }\n",
       "  metrics {\n",
       "    class_name: \"Recall\"\n",
       "  }\n",
       "  metrics {\n",
       "    class_name: \"MeanLabel\"\n",
       "  }\n",
       "  metrics {\n",
       "    class_name: \"MeanPrediction\"\n",
       "  }\n",
       "  metrics {\n",
       "    class_name: \"Calibration\"\n",
       "  }\n",
       "  metrics {\n",
       "    class_name: \"CalibrationPlot\"\n",
       "  }\n",
       "  metrics {\n",
       "    class_name: \"ConfusionMatrixPlot\"\n",
       "  }\n",
       "}"
      ]
     },
     "execution_count": 96,
     "metadata": {},
     "output_type": "execute_result"
    }
   ],
   "source": [
    "eval_config"
   ]
  },
  {
   "cell_type": "code",
   "execution_count": 97,
   "id": "aa5fb7e6",
   "metadata": {},
   "outputs": [],
   "source": [
    "import gzip\n",
    "import shutil\n",
    "import os\n",
    "import tempfile\n",
    "\n",
    "DATA_ROOT = tempfile.mkdtemp(prefix='past-data') \n",
    "TFRECORD_DAY1 = os.path.join(DATA_ROOT, 't1.tfrecord')\n",
    "TFRECORD_DAY2 = os.path.join(DATA_ROOT, 't2.tfrecord')\n",
    "TFRECORD_DAY1_gz = os.path.join(example_gen_outputs['examples'][0].uri, 'Split-train','data_tfrecord-00000-of-00001.gz')\n",
    "TFRECORD_DAY2_gz = os.path.join(example_gen_outputs['examples'][0].uri, 'Split-eval','data_tfrecord-00000-of-00001.gz')\n",
    "\n",
    "with gzip.open(TFRECORD_DAY1_gz, 'rb') as f_in:\n",
    "    with open(TFRECORD_DAY1, 'wb') as f_out:\n",
    "        shutil.copyfileobj(f_in, f_out)\n",
    "with gzip.open(TFRECORD_DAY2_gz, 'rb') as f_in:\n",
    "    with open(TFRECORD_DAY2, 'wb') as f_out:\n",
    "        shutil.copyfileobj(f_in, f_out)\n",
    "\n",
    "# change model folder so that time series graph can show x value as category\n",
    "model_path = pusher_outputs['pushed_model'][0].uri\n",
    "new_model_path = os.path.join(DATA_ROOT, 'model')\n",
    "!cp -R {model_path} {new_model_path}"
   ]
  },
  {
   "cell_type": "code",
   "execution_count": 98,
   "id": "e77024b9",
   "metadata": {},
   "outputs": [
    {
     "name": "stderr",
     "output_type": "stream",
     "text": [
      "WARNING:absl:Tensorflow version (2.5.0) found. Note that TFMA support for TF 2.0 is currently in beta\n",
      "WARNING:root:Make sure that locally built Python SDK docker image has Python 3.8 interpreter.\n"
     ]
    },
    {
     "ename": "OSError",
     "evalue": "SavedModel file does not exist at: /tmp/past-dataiqa7nhlr/model/{saved_model.pbtxt|saved_model.pb} [while running 'ExtractEvaluateAndWriteResults/ExtractAndEvaluate/ExtractTransformedFeatures/Predict']",
     "output_type": "error",
     "traceback": [
      "\u001b[0;31m---------------------------------------------------------------------------\u001b[0m",
      "\u001b[0;31mOSError\u001b[0m                                   Traceback (most recent call last)",
      "\u001b[0;32m/usr/local/lib/python3.8/site-packages/apache_beam/runners/common.cpython-38-x86_64-linux-gnu.so\u001b[0m in \u001b[0;36mapache_beam.runners.common.DoFnRunner._invoke_lifecycle_method\u001b[0;34m()\u001b[0m\n",
      "\u001b[0;32m/usr/local/lib/python3.8/site-packages/apache_beam/runners/common.cpython-38-x86_64-linux-gnu.so\u001b[0m in \u001b[0;36mapache_beam.runners.common.DoFnInvoker.invoke_setup\u001b[0;34m()\u001b[0m\n",
      "\u001b[0;32m/usr/local/lib/python3.8/site-packages/tensorflow_model_analysis/model_util.py\u001b[0m in \u001b[0;36msetup\u001b[0;34m(self)\u001b[0m\n\u001b[1;32m    854\u001b[0m   \u001b[0;32mdef\u001b[0m \u001b[0msetup\u001b[0m\u001b[0;34m(\u001b[0m\u001b[0mself\u001b[0m\u001b[0;34m)\u001b[0m\u001b[0;34m:\u001b[0m\u001b[0;34m\u001b[0m\u001b[0;34m\u001b[0m\u001b[0m\n\u001b[0;32m--> 855\u001b[0;31m     \u001b[0msuper\u001b[0m\u001b[0;34m(\u001b[0m\u001b[0mModelSignaturesDoFn\u001b[0m\u001b[0;34m,\u001b[0m \u001b[0mself\u001b[0m\u001b[0;34m)\u001b[0m\u001b[0;34m.\u001b[0m\u001b[0msetup\u001b[0m\u001b[0;34m(\u001b[0m\u001b[0;34m)\u001b[0m\u001b[0;34m\u001b[0m\u001b[0;34m\u001b[0m\u001b[0m\n\u001b[0m\u001b[1;32m    856\u001b[0m     \u001b[0;32mif\u001b[0m \u001b[0mself\u001b[0m\u001b[0;34m.\u001b[0m\u001b[0m_tensor_adapter_config\u001b[0m \u001b[0;32mis\u001b[0m \u001b[0;32mnot\u001b[0m \u001b[0;32mNone\u001b[0m\u001b[0;34m:\u001b[0m\u001b[0;34m\u001b[0m\u001b[0;34m\u001b[0m\u001b[0m\n",
      "\u001b[0;32m/usr/local/lib/python3.8/site-packages/tensorflow_model_analysis/model_util.py\u001b[0m in \u001b[0;36msetup\u001b[0;34m(self)\u001b[0m\n\u001b[1;32m    667\u001b[0m     \u001b[0;32mfor\u001b[0m \u001b[0mmodel_name\u001b[0m\u001b[0;34m,\u001b[0m \u001b[0mmodel_loader\u001b[0m \u001b[0;32min\u001b[0m \u001b[0mself\u001b[0m\u001b[0;34m.\u001b[0m\u001b[0m_model_loaders\u001b[0m\u001b[0;34m.\u001b[0m\u001b[0mitems\u001b[0m\u001b[0;34m(\u001b[0m\u001b[0;34m)\u001b[0m\u001b[0;34m:\u001b[0m\u001b[0;34m\u001b[0m\u001b[0;34m\u001b[0m\u001b[0m\n\u001b[0;32m--> 668\u001b[0;31m       self._loaded_models[model_name] = model_loader.load(\n\u001b[0m\u001b[1;32m    669\u001b[0m           model_load_time_callback=self._set_model_load_seconds)\n",
      "\u001b[0;32m/usr/local/lib/python3.8/site-packages/tensorflow_model_analysis/types.py\u001b[0m in \u001b[0;36mload\u001b[0;34m(self, model_load_time_callback)\u001b[0m\n\u001b[1;32m    163\u001b[0m       \u001b[0mconstruct_fn\u001b[0m \u001b[0;34m=\u001b[0m \u001b[0mself\u001b[0m\u001b[0;34m.\u001b[0m\u001b[0mconstruct_fn\u001b[0m\u001b[0;34m\u001b[0m\u001b[0;34m\u001b[0m\u001b[0m\n\u001b[0;32m--> 164\u001b[0;31m     \u001b[0;32mreturn\u001b[0m \u001b[0mself\u001b[0m\u001b[0;34m.\u001b[0m\u001b[0m_shared_handle\u001b[0m\u001b[0;34m.\u001b[0m\u001b[0macquire\u001b[0m\u001b[0;34m(\u001b[0m\u001b[0mconstruct_fn\u001b[0m\u001b[0;34m)\u001b[0m\u001b[0;34m\u001b[0m\u001b[0;34m\u001b[0m\u001b[0m\n\u001b[0m\u001b[1;32m    165\u001b[0m \u001b[0;34m\u001b[0m\u001b[0m\n",
      "\u001b[0;32m/usr/local/lib/python3.8/site-packages/apache_beam/utils/shared.py\u001b[0m in \u001b[0;36macquire\u001b[0;34m(self, constructor_fn, tag)\u001b[0m\n\u001b[1;32m    310\u001b[0m     \"\"\"\n\u001b[0;32m--> 311\u001b[0;31m     \u001b[0;32mreturn\u001b[0m \u001b[0m_shared_map\u001b[0m\u001b[0;34m.\u001b[0m\u001b[0macquire\u001b[0m\u001b[0;34m(\u001b[0m\u001b[0mself\u001b[0m\u001b[0;34m.\u001b[0m\u001b[0m_key\u001b[0m\u001b[0;34m,\u001b[0m \u001b[0mconstructor_fn\u001b[0m\u001b[0;34m,\u001b[0m \u001b[0mtag\u001b[0m\u001b[0;34m)\u001b[0m\u001b[0;34m\u001b[0m\u001b[0;34m\u001b[0m\u001b[0m\n\u001b[0m",
      "\u001b[0;32m/usr/local/lib/python3.8/site-packages/apache_beam/utils/shared.py\u001b[0m in \u001b[0;36macquire\u001b[0;34m(self, key, constructor_fn, tag)\u001b[0m\n\u001b[1;32m    251\u001b[0m \u001b[0;34m\u001b[0m\u001b[0m\n\u001b[0;32m--> 252\u001b[0;31m     \u001b[0mresult\u001b[0m \u001b[0;34m=\u001b[0m \u001b[0mcontrol_block\u001b[0m\u001b[0;34m.\u001b[0m\u001b[0macquire\u001b[0m\u001b[0;34m(\u001b[0m\u001b[0mconstructor_fn\u001b[0m\u001b[0;34m,\u001b[0m \u001b[0mtag\u001b[0m\u001b[0;34m)\u001b[0m\u001b[0;34m\u001b[0m\u001b[0;34m\u001b[0m\u001b[0m\n\u001b[0m\u001b[1;32m    253\u001b[0m \u001b[0;34m\u001b[0m\u001b[0m\n",
      "\u001b[0;32m/usr/local/lib/python3.8/site-packages/apache_beam/utils/shared.py\u001b[0m in \u001b[0;36macquire\u001b[0;34m(self, constructor_fn, tag)\u001b[0m\n\u001b[1;32m    145\u001b[0m       \u001b[0;32mif\u001b[0m \u001b[0mself\u001b[0m\u001b[0;34m.\u001b[0m\u001b[0m_ref\u001b[0m \u001b[0;32mis\u001b[0m \u001b[0;32mNone\u001b[0m \u001b[0;32mor\u001b[0m \u001b[0mself\u001b[0m\u001b[0;34m.\u001b[0m\u001b[0m_ref\u001b[0m\u001b[0;34m(\u001b[0m\u001b[0;34m)\u001b[0m \u001b[0;32mis\u001b[0m \u001b[0;32mNone\u001b[0m \u001b[0;32mor\u001b[0m \u001b[0mself\u001b[0m\u001b[0;34m.\u001b[0m\u001b[0m_tag\u001b[0m \u001b[0;34m!=\u001b[0m \u001b[0mtag\u001b[0m\u001b[0;34m:\u001b[0m\u001b[0;34m\u001b[0m\u001b[0;34m\u001b[0m\u001b[0m\n\u001b[0;32m--> 146\u001b[0;31m         \u001b[0mresult\u001b[0m \u001b[0;34m=\u001b[0m \u001b[0mconstructor_fn\u001b[0m\u001b[0;34m(\u001b[0m\u001b[0;34m)\u001b[0m\u001b[0;34m\u001b[0m\u001b[0;34m\u001b[0m\u001b[0m\n\u001b[0m\u001b[1;32m    147\u001b[0m         \u001b[0;32mif\u001b[0m \u001b[0mresult\u001b[0m \u001b[0;32mis\u001b[0m \u001b[0;32mNone\u001b[0m\u001b[0;34m:\u001b[0m\u001b[0;34m\u001b[0m\u001b[0;34m\u001b[0m\u001b[0m\n",
      "\u001b[0;32m/usr/local/lib/python3.8/site-packages/tensorflow_model_analysis/types.py\u001b[0m in \u001b[0;36mwith_load_times\u001b[0;34m()\u001b[0m\n\u001b[1;32m    172\u001b[0m       \u001b[0mstart_time\u001b[0m \u001b[0;34m=\u001b[0m \u001b[0mdatetime\u001b[0m\u001b[0;34m.\u001b[0m\u001b[0mdatetime\u001b[0m\u001b[0;34m.\u001b[0m\u001b[0mnow\u001b[0m\u001b[0;34m(\u001b[0m\u001b[0;34m)\u001b[0m\u001b[0;34m\u001b[0m\u001b[0;34m\u001b[0m\u001b[0m\n\u001b[0;32m--> 173\u001b[0;31m       \u001b[0mmodel\u001b[0m \u001b[0;34m=\u001b[0m \u001b[0mself\u001b[0m\u001b[0;34m.\u001b[0m\u001b[0mconstruct_fn\u001b[0m\u001b[0;34m(\u001b[0m\u001b[0;34m)\u001b[0m\u001b[0;34m\u001b[0m\u001b[0;34m\u001b[0m\u001b[0m\n\u001b[0m\u001b[1;32m    174\u001b[0m       \u001b[0mend_time\u001b[0m \u001b[0;34m=\u001b[0m \u001b[0mdatetime\u001b[0m\u001b[0;34m.\u001b[0m\u001b[0mdatetime\u001b[0m\u001b[0;34m.\u001b[0m\u001b[0mnow\u001b[0m\u001b[0;34m(\u001b[0m\u001b[0;34m)\u001b[0m\u001b[0;34m\u001b[0m\u001b[0;34m\u001b[0m\u001b[0m\n",
      "\u001b[0;32m/usr/local/lib/python3.8/site-packages/tensorflow_model_analysis/model_util.py\u001b[0m in \u001b[0;36mconstruct_fn\u001b[0;34m()\u001b[0m\n\u001b[1;32m    644\u001b[0m     \u001b[0;32melse\u001b[0m\u001b[0;34m:\u001b[0m\u001b[0;34m\u001b[0m\u001b[0;34m\u001b[0m\u001b[0m\n\u001b[0;32m--> 645\u001b[0;31m       \u001b[0mmodel\u001b[0m \u001b[0;34m=\u001b[0m \u001b[0mtf\u001b[0m\u001b[0;34m.\u001b[0m\u001b[0mcompat\u001b[0m\u001b[0;34m.\u001b[0m\u001b[0mv1\u001b[0m\u001b[0;34m.\u001b[0m\u001b[0msaved_model\u001b[0m\u001b[0;34m.\u001b[0m\u001b[0mload_v2\u001b[0m\u001b[0;34m(\u001b[0m\u001b[0meval_saved_model_path\u001b[0m\u001b[0;34m,\u001b[0m \u001b[0mtags\u001b[0m\u001b[0;34m=\u001b[0m\u001b[0mtags\u001b[0m\u001b[0;34m)\u001b[0m\u001b[0;34m\u001b[0m\u001b[0;34m\u001b[0m\u001b[0m\n\u001b[0m\u001b[1;32m    646\u001b[0m     \u001b[0;32mreturn\u001b[0m \u001b[0mmodel\u001b[0m\u001b[0;34m\u001b[0m\u001b[0;34m\u001b[0m\u001b[0m\n",
      "\u001b[0;32m/usr/local/lib/python3.8/site-packages/tensorflow/python/saved_model/load.py\u001b[0m in \u001b[0;36mload\u001b[0;34m(export_dir, tags, options)\u001b[0m\n\u001b[1;32m    868\u001b[0m   \"\"\"\n\u001b[0;32m--> 869\u001b[0;31m   \u001b[0;32mreturn\u001b[0m \u001b[0mload_internal\u001b[0m\u001b[0;34m(\u001b[0m\u001b[0mexport_dir\u001b[0m\u001b[0;34m,\u001b[0m \u001b[0mtags\u001b[0m\u001b[0;34m,\u001b[0m \u001b[0moptions\u001b[0m\u001b[0;34m)\u001b[0m\u001b[0;34m[\u001b[0m\u001b[0;34m\"root\"\u001b[0m\u001b[0;34m]\u001b[0m\u001b[0;34m\u001b[0m\u001b[0;34m\u001b[0m\u001b[0m\n\u001b[0m\u001b[1;32m    870\u001b[0m \u001b[0;34m\u001b[0m\u001b[0m\n",
      "\u001b[0;32m/usr/local/lib/python3.8/site-packages/tensorflow/python/saved_model/load.py\u001b[0m in \u001b[0;36mload_internal\u001b[0;34m(export_dir, tags, options, loader_cls, filters)\u001b[0m\n\u001b[1;32m    880\u001b[0m   saved_model_proto, debug_info = (\n\u001b[0;32m--> 881\u001b[0;31m       loader_impl.parse_saved_model_with_debug_info(export_dir))\n\u001b[0m\u001b[1;32m    882\u001b[0m \u001b[0;34m\u001b[0m\u001b[0m\n",
      "\u001b[0;32m/usr/local/lib/python3.8/site-packages/tensorflow/python/saved_model/loader_impl.py\u001b[0m in \u001b[0;36mparse_saved_model_with_debug_info\u001b[0;34m(export_dir)\u001b[0m\n\u001b[1;32m     55\u001b[0m   \"\"\"\n\u001b[0;32m---> 56\u001b[0;31m   \u001b[0msaved_model\u001b[0m \u001b[0;34m=\u001b[0m \u001b[0m_parse_saved_model\u001b[0m\u001b[0;34m(\u001b[0m\u001b[0mexport_dir\u001b[0m\u001b[0;34m)\u001b[0m\u001b[0;34m\u001b[0m\u001b[0;34m\u001b[0m\u001b[0m\n\u001b[0m\u001b[1;32m     57\u001b[0m \u001b[0;34m\u001b[0m\u001b[0m\n",
      "\u001b[0;32m/usr/local/lib/python3.8/site-packages/tensorflow/python/saved_model/loader_impl.py\u001b[0m in \u001b[0;36mparse_saved_model\u001b[0;34m(export_dir)\u001b[0m\n\u001b[1;32m    112\u001b[0m   \u001b[0;32melse\u001b[0m\u001b[0;34m:\u001b[0m\u001b[0;34m\u001b[0m\u001b[0;34m\u001b[0m\u001b[0m\n\u001b[0;32m--> 113\u001b[0;31m     raise IOError(\n\u001b[0m\u001b[1;32m    114\u001b[0m         \u001b[0;34m\"SavedModel file does not exist at: %s%s{%s|%s}\"\u001b[0m \u001b[0;34m%\u001b[0m\u001b[0;34m\u001b[0m\u001b[0;34m\u001b[0m\u001b[0m\n",
      "\u001b[0;31mOSError\u001b[0m: SavedModel file does not exist at: /tmp/past-dataiqa7nhlr/model/{saved_model.pbtxt|saved_model.pb}",
      "\nDuring handling of the above exception, another exception occurred:\n",
      "\u001b[0;31mOSError\u001b[0m                                   Traceback (most recent call last)",
      "\u001b[0;32m/tmp/ipykernel_341/586777141.py\u001b[0m in \u001b[0;36m<module>\u001b[0;34m\u001b[0m\n\u001b[1;32m     20\u001b[0m \u001b[0;34m\u001b[0m\u001b[0m\n\u001b[1;32m     21\u001b[0m     \u001b[0;31m# Run TFMA on the current tfrecord in the loop\u001b[0m\u001b[0;34m\u001b[0m\u001b[0;34m\u001b[0m\u001b[0;34m\u001b[0m\u001b[0m\n\u001b[0;32m---> 22\u001b[0;31m     tfma.run_model_analysis(eval_shared_model=eval_shared_model,\n\u001b[0m\u001b[1;32m     23\u001b[0m                           \u001b[0meval_config\u001b[0m\u001b[0;34m=\u001b[0m\u001b[0meval_config\u001b[0m\u001b[0;34m,\u001b[0m\u001b[0;34m\u001b[0m\u001b[0;34m\u001b[0m\u001b[0m\n\u001b[1;32m     24\u001b[0m                           \u001b[0mdata_location\u001b[0m\u001b[0;34m=\u001b[0m\u001b[0mtfrecord\u001b[0m\u001b[0;34m,\u001b[0m\u001b[0;34m\u001b[0m\u001b[0;34m\u001b[0m\u001b[0m\n",
      "\u001b[0;32m/usr/local/lib/python3.8/site-packages/tensorflow_model_analysis/api/model_eval_lib.py\u001b[0m in \u001b[0;36mrun_model_analysis\u001b[0;34m(eval_shared_model, eval_config, data_location, file_format, output_path, extractors, evaluators, writers, pipeline_options, slice_spec, write_config, compute_confidence_intervals, min_slice_size, random_seed_for_testing, schema)\u001b[0m\n\u001b[1;32m   1262\u001b[0m \u001b[0;34m\u001b[0m\u001b[0m\n\u001b[1;32m   1263\u001b[0m     \u001b[0;31m# pylint: disable=no-value-for-parameter\u001b[0m\u001b[0;34m\u001b[0m\u001b[0;34m\u001b[0m\u001b[0;34m\u001b[0m\u001b[0m\n\u001b[0;32m-> 1264\u001b[0;31m     _ = (\n\u001b[0m\u001b[1;32m   1265\u001b[0m         \u001b[0mdata\u001b[0m\u001b[0;34m\u001b[0m\u001b[0;34m\u001b[0m\u001b[0m\n\u001b[1;32m   1266\u001b[0m         | 'ExtractEvaluateAndWriteResults' >> ExtractEvaluateAndWriteResults(\n",
      "\u001b[0;32m/usr/local/lib/python3.8/site-packages/apache_beam/pipeline.py\u001b[0m in \u001b[0;36m__exit__\u001b[0;34m(self, exc_type, exc_val, exc_tb)\u001b[0m\n\u001b[1;32m    583\u001b[0m     \u001b[0;32mtry\u001b[0m\u001b[0;34m:\u001b[0m\u001b[0;34m\u001b[0m\u001b[0;34m\u001b[0m\u001b[0m\n\u001b[1;32m    584\u001b[0m       \u001b[0;32mif\u001b[0m \u001b[0;32mnot\u001b[0m \u001b[0mexc_type\u001b[0m\u001b[0;34m:\u001b[0m\u001b[0;34m\u001b[0m\u001b[0;34m\u001b[0m\u001b[0m\n\u001b[0;32m--> 585\u001b[0;31m         \u001b[0mself\u001b[0m\u001b[0;34m.\u001b[0m\u001b[0mresult\u001b[0m \u001b[0;34m=\u001b[0m \u001b[0mself\u001b[0m\u001b[0;34m.\u001b[0m\u001b[0mrun\u001b[0m\u001b[0;34m(\u001b[0m\u001b[0;34m)\u001b[0m\u001b[0;34m\u001b[0m\u001b[0;34m\u001b[0m\u001b[0m\n\u001b[0m\u001b[1;32m    586\u001b[0m         \u001b[0mself\u001b[0m\u001b[0;34m.\u001b[0m\u001b[0mresult\u001b[0m\u001b[0;34m.\u001b[0m\u001b[0mwait_until_finish\u001b[0m\u001b[0;34m(\u001b[0m\u001b[0;34m)\u001b[0m\u001b[0;34m\u001b[0m\u001b[0;34m\u001b[0m\u001b[0m\n\u001b[1;32m    587\u001b[0m     \u001b[0;32mfinally\u001b[0m\u001b[0;34m:\u001b[0m\u001b[0;34m\u001b[0m\u001b[0;34m\u001b[0m\u001b[0m\n",
      "\u001b[0;32m/usr/local/lib/python3.8/site-packages/apache_beam/pipeline.py\u001b[0m in \u001b[0;36mrun\u001b[0;34m(self, test_runner_api)\u001b[0m\n\u001b[1;32m    562\u001b[0m         \u001b[0;32mfinally\u001b[0m\u001b[0;34m:\u001b[0m\u001b[0;34m\u001b[0m\u001b[0;34m\u001b[0m\u001b[0m\n\u001b[1;32m    563\u001b[0m           \u001b[0mshutil\u001b[0m\u001b[0;34m.\u001b[0m\u001b[0mrmtree\u001b[0m\u001b[0;34m(\u001b[0m\u001b[0mtmpdir\u001b[0m\u001b[0;34m)\u001b[0m\u001b[0;34m\u001b[0m\u001b[0;34m\u001b[0m\u001b[0m\n\u001b[0;32m--> 564\u001b[0;31m       \u001b[0;32mreturn\u001b[0m \u001b[0mself\u001b[0m\u001b[0;34m.\u001b[0m\u001b[0mrunner\u001b[0m\u001b[0;34m.\u001b[0m\u001b[0mrun_pipeline\u001b[0m\u001b[0;34m(\u001b[0m\u001b[0mself\u001b[0m\u001b[0;34m,\u001b[0m \u001b[0mself\u001b[0m\u001b[0;34m.\u001b[0m\u001b[0m_options\u001b[0m\u001b[0;34m)\u001b[0m\u001b[0;34m\u001b[0m\u001b[0;34m\u001b[0m\u001b[0m\n\u001b[0m\u001b[1;32m    565\u001b[0m     \u001b[0;32mfinally\u001b[0m\u001b[0;34m:\u001b[0m\u001b[0;34m\u001b[0m\u001b[0;34m\u001b[0m\u001b[0m\n\u001b[1;32m    566\u001b[0m       \u001b[0mshutil\u001b[0m\u001b[0;34m.\u001b[0m\u001b[0mrmtree\u001b[0m\u001b[0;34m(\u001b[0m\u001b[0mself\u001b[0m\u001b[0;34m.\u001b[0m\u001b[0mlocal_tempdir\u001b[0m\u001b[0;34m,\u001b[0m \u001b[0mignore_errors\u001b[0m\u001b[0;34m=\u001b[0m\u001b[0;32mTrue\u001b[0m\u001b[0;34m)\u001b[0m\u001b[0;34m\u001b[0m\u001b[0;34m\u001b[0m\u001b[0m\n",
      "\u001b[0;32m/usr/local/lib/python3.8/site-packages/apache_beam/runners/direct/direct_runner.py\u001b[0m in \u001b[0;36mrun_pipeline\u001b[0;34m(self, pipeline, options)\u001b[0m\n\u001b[1;32m    129\u001b[0m       \u001b[0mrunner\u001b[0m \u001b[0;34m=\u001b[0m \u001b[0mBundleBasedDirectRunner\u001b[0m\u001b[0;34m(\u001b[0m\u001b[0;34m)\u001b[0m\u001b[0;34m\u001b[0m\u001b[0;34m\u001b[0m\u001b[0m\n\u001b[1;32m    130\u001b[0m \u001b[0;34m\u001b[0m\u001b[0m\n\u001b[0;32m--> 131\u001b[0;31m     \u001b[0;32mreturn\u001b[0m \u001b[0mrunner\u001b[0m\u001b[0;34m.\u001b[0m\u001b[0mrun_pipeline\u001b[0m\u001b[0;34m(\u001b[0m\u001b[0mpipeline\u001b[0m\u001b[0;34m,\u001b[0m \u001b[0moptions\u001b[0m\u001b[0;34m)\u001b[0m\u001b[0;34m\u001b[0m\u001b[0;34m\u001b[0m\u001b[0m\n\u001b[0m\u001b[1;32m    132\u001b[0m \u001b[0;34m\u001b[0m\u001b[0m\n\u001b[1;32m    133\u001b[0m \u001b[0;34m\u001b[0m\u001b[0m\n",
      "\u001b[0;32m/usr/local/lib/python3.8/site-packages/apache_beam/runners/portability/fn_api_runner/fn_runner.py\u001b[0m in \u001b[0;36mrun_pipeline\u001b[0;34m(self, pipeline, options)\u001b[0m\n\u001b[1;32m    189\u001b[0m         options.view_as(pipeline_options.ProfilingOptions))\n\u001b[1;32m    190\u001b[0m \u001b[0;34m\u001b[0m\u001b[0m\n\u001b[0;32m--> 191\u001b[0;31m     self._latest_run_result = self.run_via_runner_api(\n\u001b[0m\u001b[1;32m    192\u001b[0m         pipeline.to_runner_api(default_environment=self._default_environment))\n\u001b[1;32m    193\u001b[0m     \u001b[0;32mreturn\u001b[0m \u001b[0mself\u001b[0m\u001b[0;34m.\u001b[0m\u001b[0m_latest_run_result\u001b[0m\u001b[0;34m\u001b[0m\u001b[0;34m\u001b[0m\u001b[0m\n",
      "\u001b[0;32m/usr/local/lib/python3.8/site-packages/apache_beam/runners/portability/fn_api_runner/fn_runner.py\u001b[0m in \u001b[0;36mrun_via_runner_api\u001b[0;34m(self, pipeline_proto)\u001b[0m\n\u001b[1;32m    200\u001b[0m     \u001b[0;31m# TODO(pabloem, BEAM-7514): Create a watermark manager (that has access to\u001b[0m\u001b[0;34m\u001b[0m\u001b[0;34m\u001b[0m\u001b[0;34m\u001b[0m\u001b[0m\n\u001b[1;32m    201\u001b[0m     \u001b[0;31m#   the teststream (if any), and all the stages).\u001b[0m\u001b[0;34m\u001b[0m\u001b[0;34m\u001b[0m\u001b[0;34m\u001b[0m\u001b[0m\n\u001b[0;32m--> 202\u001b[0;31m     \u001b[0;32mreturn\u001b[0m \u001b[0mself\u001b[0m\u001b[0;34m.\u001b[0m\u001b[0mrun_stages\u001b[0m\u001b[0;34m(\u001b[0m\u001b[0mstage_context\u001b[0m\u001b[0;34m,\u001b[0m \u001b[0mstages\u001b[0m\u001b[0;34m)\u001b[0m\u001b[0;34m\u001b[0m\u001b[0;34m\u001b[0m\u001b[0m\n\u001b[0m\u001b[1;32m    203\u001b[0m \u001b[0;34m\u001b[0m\u001b[0m\n\u001b[1;32m    204\u001b[0m   \u001b[0;34m@\u001b[0m\u001b[0mcontextlib\u001b[0m\u001b[0;34m.\u001b[0m\u001b[0mcontextmanager\u001b[0m\u001b[0;34m\u001b[0m\u001b[0;34m\u001b[0m\u001b[0m\n",
      "\u001b[0;32m/usr/local/lib/python3.8/site-packages/apache_beam/runners/portability/fn_api_runner/fn_runner.py\u001b[0m in \u001b[0;36mrun_stages\u001b[0;34m(self, stage_context, stages)\u001b[0m\n\u001b[1;32m    364\u001b[0m               runner_execution_context, stage, self._num_workers)\n\u001b[1;32m    365\u001b[0m \u001b[0;34m\u001b[0m\u001b[0m\n\u001b[0;32m--> 366\u001b[0;31m           stage_results = self._run_stage(\n\u001b[0m\u001b[1;32m    367\u001b[0m               \u001b[0mrunner_execution_context\u001b[0m\u001b[0;34m,\u001b[0m\u001b[0;34m\u001b[0m\u001b[0;34m\u001b[0m\u001b[0m\n\u001b[1;32m    368\u001b[0m               \u001b[0mbundle_context_manager\u001b[0m\u001b[0;34m,\u001b[0m\u001b[0;34m\u001b[0m\u001b[0;34m\u001b[0m\u001b[0m\n",
      "\u001b[0;32m/usr/local/lib/python3.8/site-packages/apache_beam/runners/portability/fn_api_runner/fn_runner.py\u001b[0m in \u001b[0;36m_run_stage\u001b[0;34m(self, runner_execution_context, bundle_context_manager)\u001b[0m\n\u001b[1;32m    555\u001b[0m \u001b[0;34m\u001b[0m\u001b[0m\n\u001b[1;32m    556\u001b[0m     \u001b[0;32mwhile\u001b[0m \u001b[0;32mTrue\u001b[0m\u001b[0;34m:\u001b[0m\u001b[0;34m\u001b[0m\u001b[0;34m\u001b[0m\u001b[0m\n\u001b[0;32m--> 557\u001b[0;31m       last_result, deferred_inputs, fired_timers = self._run_bundle(\n\u001b[0m\u001b[1;32m    558\u001b[0m               \u001b[0mrunner_execution_context\u001b[0m\u001b[0;34m,\u001b[0m\u001b[0;34m\u001b[0m\u001b[0;34m\u001b[0m\u001b[0m\n\u001b[1;32m    559\u001b[0m               \u001b[0mbundle_context_manager\u001b[0m\u001b[0;34m,\u001b[0m\u001b[0;34m\u001b[0m\u001b[0;34m\u001b[0m\u001b[0m\n",
      "\u001b[0;32m/usr/local/lib/python3.8/site-packages/apache_beam/runners/portability/fn_api_runner/fn_runner.py\u001b[0m in \u001b[0;36m_run_bundle\u001b[0;34m(self, runner_execution_context, bundle_context_manager, data_input, data_output, input_timers, expected_timer_output, bundle_manager)\u001b[0m\n\u001b[1;32m    601\u001b[0m         expected_timer_output)\n\u001b[1;32m    602\u001b[0m \u001b[0;34m\u001b[0m\u001b[0m\n\u001b[0;32m--> 603\u001b[0;31m     result, splits = bundle_manager.process_bundle(\n\u001b[0m\u001b[1;32m    604\u001b[0m         data_input, data_output, input_timers, expected_timer_output)\n\u001b[1;32m    605\u001b[0m     \u001b[0;31m# Now we collect all the deferred inputs remaining from bundle execution.\u001b[0m\u001b[0;34m\u001b[0m\u001b[0;34m\u001b[0m\u001b[0;34m\u001b[0m\u001b[0m\n",
      "\u001b[0;32m/usr/local/lib/python3.8/site-packages/apache_beam/runners/portability/fn_api_runner/fn_runner.py\u001b[0m in \u001b[0;36mprocess_bundle\u001b[0;34m(self, inputs, expected_outputs, fired_timers, expected_output_timers, dry_run)\u001b[0m\n\u001b[1;32m    903\u001b[0m             \u001b[0mprocess_bundle_descriptor\u001b[0m\u001b[0;34m.\u001b[0m\u001b[0mid\u001b[0m\u001b[0;34m,\u001b[0m\u001b[0;34m\u001b[0m\u001b[0;34m\u001b[0m\u001b[0m\n\u001b[1;32m    904\u001b[0m             cache_tokens=[next(self._cache_token_generator)]))\n\u001b[0;32m--> 905\u001b[0;31m     \u001b[0mresult_future\u001b[0m \u001b[0;34m=\u001b[0m \u001b[0mself\u001b[0m\u001b[0;34m.\u001b[0m\u001b[0m_worker_handler\u001b[0m\u001b[0;34m.\u001b[0m\u001b[0mcontrol_conn\u001b[0m\u001b[0;34m.\u001b[0m\u001b[0mpush\u001b[0m\u001b[0;34m(\u001b[0m\u001b[0mprocess_bundle_req\u001b[0m\u001b[0;34m)\u001b[0m\u001b[0;34m\u001b[0m\u001b[0;34m\u001b[0m\u001b[0m\n\u001b[0m\u001b[1;32m    906\u001b[0m \u001b[0;34m\u001b[0m\u001b[0m\n\u001b[1;32m    907\u001b[0m     \u001b[0msplit_results\u001b[0m \u001b[0;34m=\u001b[0m \u001b[0;34m[\u001b[0m\u001b[0;34m]\u001b[0m  \u001b[0;31m# type: List[beam_fn_api_pb2.ProcessBundleSplitResponse]\u001b[0m\u001b[0;34m\u001b[0m\u001b[0;34m\u001b[0m\u001b[0m\n",
      "\u001b[0;32m/usr/local/lib/python3.8/site-packages/apache_beam/runners/portability/fn_api_runner/worker_handlers.py\u001b[0m in \u001b[0;36mpush\u001b[0;34m(self, request)\u001b[0m\n\u001b[1;32m    376\u001b[0m       \u001b[0mself\u001b[0m\u001b[0;34m.\u001b[0m\u001b[0m_uid_counter\u001b[0m \u001b[0;34m+=\u001b[0m \u001b[0;36m1\u001b[0m\u001b[0;34m\u001b[0m\u001b[0;34m\u001b[0m\u001b[0m\n\u001b[1;32m    377\u001b[0m       \u001b[0mrequest\u001b[0m\u001b[0;34m.\u001b[0m\u001b[0minstruction_id\u001b[0m \u001b[0;34m=\u001b[0m \u001b[0;34m'control_%s'\u001b[0m \u001b[0;34m%\u001b[0m \u001b[0mself\u001b[0m\u001b[0;34m.\u001b[0m\u001b[0m_uid_counter\u001b[0m\u001b[0;34m\u001b[0m\u001b[0;34m\u001b[0m\u001b[0m\n\u001b[0;32m--> 378\u001b[0;31m     \u001b[0mresponse\u001b[0m \u001b[0;34m=\u001b[0m \u001b[0mself\u001b[0m\u001b[0;34m.\u001b[0m\u001b[0mworker\u001b[0m\u001b[0;34m.\u001b[0m\u001b[0mdo_instruction\u001b[0m\u001b[0;34m(\u001b[0m\u001b[0mrequest\u001b[0m\u001b[0;34m)\u001b[0m\u001b[0;34m\u001b[0m\u001b[0;34m\u001b[0m\u001b[0m\n\u001b[0m\u001b[1;32m    379\u001b[0m     \u001b[0;32mreturn\u001b[0m \u001b[0mControlFuture\u001b[0m\u001b[0;34m(\u001b[0m\u001b[0mrequest\u001b[0m\u001b[0;34m.\u001b[0m\u001b[0minstruction_id\u001b[0m\u001b[0;34m,\u001b[0m \u001b[0mresponse\u001b[0m\u001b[0;34m)\u001b[0m\u001b[0;34m\u001b[0m\u001b[0;34m\u001b[0m\u001b[0m\n\u001b[1;32m    380\u001b[0m \u001b[0;34m\u001b[0m\u001b[0m\n",
      "\u001b[0;32m/usr/local/lib/python3.8/site-packages/apache_beam/runners/worker/sdk_worker.py\u001b[0m in \u001b[0;36mdo_instruction\u001b[0;34m(self, request)\u001b[0m\n\u001b[1;32m    599\u001b[0m     \u001b[0;32mif\u001b[0m \u001b[0mrequest_type\u001b[0m\u001b[0;34m:\u001b[0m\u001b[0;34m\u001b[0m\u001b[0;34m\u001b[0m\u001b[0m\n\u001b[1;32m    600\u001b[0m       \u001b[0;31m# E.g. if register is set, this will call self.register(request.register))\u001b[0m\u001b[0;34m\u001b[0m\u001b[0;34m\u001b[0m\u001b[0;34m\u001b[0m\u001b[0m\n\u001b[0;32m--> 601\u001b[0;31m       return getattr(self, request_type)(\n\u001b[0m\u001b[1;32m    602\u001b[0m           getattr(request, request_type), request.instruction_id)\n\u001b[1;32m    603\u001b[0m     \u001b[0;32melse\u001b[0m\u001b[0;34m:\u001b[0m\u001b[0;34m\u001b[0m\u001b[0;34m\u001b[0m\u001b[0m\n",
      "\u001b[0;32m/usr/local/lib/python3.8/site-packages/apache_beam/runners/worker/sdk_worker.py\u001b[0m in \u001b[0;36mprocess_bundle\u001b[0;34m(self, request, instruction_id)\u001b[0m\n\u001b[1;32m    630\u001b[0m   ):\n\u001b[1;32m    631\u001b[0m     \u001b[0;31m# type: (...) -> beam_fn_api_pb2.InstructionResponse\u001b[0m\u001b[0;34m\u001b[0m\u001b[0;34m\u001b[0m\u001b[0;34m\u001b[0m\u001b[0m\n\u001b[0;32m--> 632\u001b[0;31m     bundle_processor = self.bundle_processor_cache.get(\n\u001b[0m\u001b[1;32m    633\u001b[0m         instruction_id, request.process_bundle_descriptor_id)\n\u001b[1;32m    634\u001b[0m     \u001b[0;32mtry\u001b[0m\u001b[0;34m:\u001b[0m\u001b[0;34m\u001b[0m\u001b[0;34m\u001b[0m\u001b[0m\n",
      "\u001b[0;32m/usr/local/lib/python3.8/site-packages/apache_beam/runners/worker/sdk_worker.py\u001b[0m in \u001b[0;36mget\u001b[0;34m(self, instruction_id, bundle_descriptor_id)\u001b[0m\n\u001b[1;32m    456\u001b[0m \u001b[0;34m\u001b[0m\u001b[0m\n\u001b[1;32m    457\u001b[0m     \u001b[0;31m# Make sure we instantiate the processor while not holding the lock.\u001b[0m\u001b[0;34m\u001b[0m\u001b[0;34m\u001b[0m\u001b[0;34m\u001b[0m\u001b[0m\n\u001b[0;32m--> 458\u001b[0;31m     processor = bundle_processor.BundleProcessor(\n\u001b[0m\u001b[1;32m    459\u001b[0m         \u001b[0mself\u001b[0m\u001b[0;34m.\u001b[0m\u001b[0mfns\u001b[0m\u001b[0;34m[\u001b[0m\u001b[0mbundle_descriptor_id\u001b[0m\u001b[0;34m]\u001b[0m\u001b[0;34m,\u001b[0m\u001b[0;34m\u001b[0m\u001b[0;34m\u001b[0m\u001b[0m\n\u001b[1;32m    460\u001b[0m         self.state_handler_factory.create_state_handler(\n",
      "\u001b[0;32m/usr/local/lib/python3.8/site-packages/apache_beam/runners/worker/bundle_processor.py\u001b[0m in \u001b[0;36m__init__\u001b[0;34m(self, process_bundle_descriptor, state_handler, data_channel_factory)\u001b[0m\n\u001b[1;32m    862\u001b[0m     \u001b[0mself\u001b[0m\u001b[0;34m.\u001b[0m\u001b[0mops\u001b[0m \u001b[0;34m=\u001b[0m \u001b[0mself\u001b[0m\u001b[0;34m.\u001b[0m\u001b[0mcreate_execution_tree\u001b[0m\u001b[0;34m(\u001b[0m\u001b[0mself\u001b[0m\u001b[0;34m.\u001b[0m\u001b[0mprocess_bundle_descriptor\u001b[0m\u001b[0;34m)\u001b[0m\u001b[0;34m\u001b[0m\u001b[0;34m\u001b[0m\u001b[0m\n\u001b[1;32m    863\u001b[0m     \u001b[0;32mfor\u001b[0m \u001b[0mop\u001b[0m \u001b[0;32min\u001b[0m \u001b[0mself\u001b[0m\u001b[0;34m.\u001b[0m\u001b[0mops\u001b[0m\u001b[0;34m.\u001b[0m\u001b[0mvalues\u001b[0m\u001b[0;34m(\u001b[0m\u001b[0;34m)\u001b[0m\u001b[0;34m:\u001b[0m\u001b[0;34m\u001b[0m\u001b[0;34m\u001b[0m\u001b[0m\n\u001b[0;32m--> 864\u001b[0;31m       \u001b[0mop\u001b[0m\u001b[0;34m.\u001b[0m\u001b[0msetup\u001b[0m\u001b[0;34m(\u001b[0m\u001b[0;34m)\u001b[0m\u001b[0;34m\u001b[0m\u001b[0;34m\u001b[0m\u001b[0m\n\u001b[0m\u001b[1;32m    865\u001b[0m     \u001b[0mself\u001b[0m\u001b[0;34m.\u001b[0m\u001b[0msplitting_lock\u001b[0m \u001b[0;34m=\u001b[0m \u001b[0mthreading\u001b[0m\u001b[0;34m.\u001b[0m\u001b[0mLock\u001b[0m\u001b[0;34m(\u001b[0m\u001b[0;34m)\u001b[0m\u001b[0;34m\u001b[0m\u001b[0;34m\u001b[0m\u001b[0m\n\u001b[1;32m    866\u001b[0m \u001b[0;34m\u001b[0m\u001b[0m\n",
      "\u001b[0;32m/usr/local/lib/python3.8/site-packages/apache_beam/runners/worker/operations.cpython-38-x86_64-linux-gnu.so\u001b[0m in \u001b[0;36mapache_beam.runners.worker.operations.DoOperation.setup\u001b[0;34m()\u001b[0m\n",
      "\u001b[0;32m/usr/local/lib/python3.8/site-packages/apache_beam/runners/worker/operations.cpython-38-x86_64-linux-gnu.so\u001b[0m in \u001b[0;36mapache_beam.runners.worker.operations.DoOperation.setup\u001b[0;34m()\u001b[0m\n",
      "\u001b[0;32m/usr/local/lib/python3.8/site-packages/apache_beam/runners/common.cpython-38-x86_64-linux-gnu.so\u001b[0m in \u001b[0;36mapache_beam.runners.common.DoFnRunner.setup\u001b[0;34m()\u001b[0m\n",
      "\u001b[0;32m/usr/local/lib/python3.8/site-packages/apache_beam/runners/common.cpython-38-x86_64-linux-gnu.so\u001b[0m in \u001b[0;36mapache_beam.runners.common.DoFnRunner._invoke_lifecycle_method\u001b[0;34m()\u001b[0m\n",
      "\u001b[0;32m/usr/local/lib/python3.8/site-packages/apache_beam/runners/common.cpython-38-x86_64-linux-gnu.so\u001b[0m in \u001b[0;36mapache_beam.runners.common.DoFnRunner._reraise_augmented\u001b[0;34m()\u001b[0m\n",
      "\u001b[0;32m/usr/local/lib/python3.8/site-packages/apache_beam/runners/common.cpython-38-x86_64-linux-gnu.so\u001b[0m in \u001b[0;36mapache_beam.runners.common.DoFnRunner._invoke_lifecycle_method\u001b[0;34m()\u001b[0m\n",
      "\u001b[0;32m/usr/local/lib/python3.8/site-packages/apache_beam/runners/common.cpython-38-x86_64-linux-gnu.so\u001b[0m in \u001b[0;36mapache_beam.runners.common.DoFnInvoker.invoke_setup\u001b[0;34m()\u001b[0m\n",
      "\u001b[0;32m/usr/local/lib/python3.8/site-packages/tensorflow_model_analysis/model_util.py\u001b[0m in \u001b[0;36msetup\u001b[0;34m(self)\u001b[0m\n\u001b[1;32m    853\u001b[0m \u001b[0;34m\u001b[0m\u001b[0m\n\u001b[1;32m    854\u001b[0m   \u001b[0;32mdef\u001b[0m \u001b[0msetup\u001b[0m\u001b[0;34m(\u001b[0m\u001b[0mself\u001b[0m\u001b[0;34m)\u001b[0m\u001b[0;34m:\u001b[0m\u001b[0;34m\u001b[0m\u001b[0;34m\u001b[0m\u001b[0m\n\u001b[0;32m--> 855\u001b[0;31m     \u001b[0msuper\u001b[0m\u001b[0;34m(\u001b[0m\u001b[0mModelSignaturesDoFn\u001b[0m\u001b[0;34m,\u001b[0m \u001b[0mself\u001b[0m\u001b[0;34m)\u001b[0m\u001b[0;34m.\u001b[0m\u001b[0msetup\u001b[0m\u001b[0;34m(\u001b[0m\u001b[0;34m)\u001b[0m\u001b[0;34m\u001b[0m\u001b[0;34m\u001b[0m\u001b[0m\n\u001b[0m\u001b[1;32m    856\u001b[0m     \u001b[0;32mif\u001b[0m \u001b[0mself\u001b[0m\u001b[0;34m.\u001b[0m\u001b[0m_tensor_adapter_config\u001b[0m \u001b[0;32mis\u001b[0m \u001b[0;32mnot\u001b[0m \u001b[0;32mNone\u001b[0m\u001b[0;34m:\u001b[0m\u001b[0;34m\u001b[0m\u001b[0;34m\u001b[0m\u001b[0m\n\u001b[1;32m    857\u001b[0m       self._tensor_adapter = tensor_adapter.TensorAdapter(\n",
      "\u001b[0;32m/usr/local/lib/python3.8/site-packages/tensorflow_model_analysis/model_util.py\u001b[0m in \u001b[0;36msetup\u001b[0;34m(self)\u001b[0m\n\u001b[1;32m    666\u001b[0m     \u001b[0mself\u001b[0m\u001b[0;34m.\u001b[0m\u001b[0m_loaded_models\u001b[0m \u001b[0;34m=\u001b[0m \u001b[0;34m{\u001b[0m\u001b[0;34m}\u001b[0m\u001b[0;34m\u001b[0m\u001b[0;34m\u001b[0m\u001b[0m\n\u001b[1;32m    667\u001b[0m     \u001b[0;32mfor\u001b[0m \u001b[0mmodel_name\u001b[0m\u001b[0;34m,\u001b[0m \u001b[0mmodel_loader\u001b[0m \u001b[0;32min\u001b[0m \u001b[0mself\u001b[0m\u001b[0;34m.\u001b[0m\u001b[0m_model_loaders\u001b[0m\u001b[0;34m.\u001b[0m\u001b[0mitems\u001b[0m\u001b[0;34m(\u001b[0m\u001b[0;34m)\u001b[0m\u001b[0;34m:\u001b[0m\u001b[0;34m\u001b[0m\u001b[0;34m\u001b[0m\u001b[0m\n\u001b[0;32m--> 668\u001b[0;31m       self._loaded_models[model_name] = model_loader.load(\n\u001b[0m\u001b[1;32m    669\u001b[0m           model_load_time_callback=self._set_model_load_seconds)\n\u001b[1;32m    670\u001b[0m \u001b[0;34m\u001b[0m\u001b[0m\n",
      "\u001b[0;32m/usr/local/lib/python3.8/site-packages/tensorflow_model_analysis/types.py\u001b[0m in \u001b[0;36mload\u001b[0;34m(self, model_load_time_callback)\u001b[0m\n\u001b[1;32m    162\u001b[0m     \u001b[0;32melse\u001b[0m\u001b[0;34m:\u001b[0m\u001b[0;34m\u001b[0m\u001b[0;34m\u001b[0m\u001b[0m\n\u001b[1;32m    163\u001b[0m       \u001b[0mconstruct_fn\u001b[0m \u001b[0;34m=\u001b[0m \u001b[0mself\u001b[0m\u001b[0;34m.\u001b[0m\u001b[0mconstruct_fn\u001b[0m\u001b[0;34m\u001b[0m\u001b[0;34m\u001b[0m\u001b[0m\n\u001b[0;32m--> 164\u001b[0;31m     \u001b[0;32mreturn\u001b[0m \u001b[0mself\u001b[0m\u001b[0;34m.\u001b[0m\u001b[0m_shared_handle\u001b[0m\u001b[0;34m.\u001b[0m\u001b[0macquire\u001b[0m\u001b[0;34m(\u001b[0m\u001b[0mconstruct_fn\u001b[0m\u001b[0;34m)\u001b[0m\u001b[0;34m\u001b[0m\u001b[0;34m\u001b[0m\u001b[0m\n\u001b[0m\u001b[1;32m    165\u001b[0m \u001b[0;34m\u001b[0m\u001b[0m\n\u001b[1;32m    166\u001b[0m   def _construct_fn_with_load_time(\n",
      "\u001b[0;32m/usr/local/lib/python3.8/site-packages/apache_beam/utils/shared.py\u001b[0m in \u001b[0;36macquire\u001b[0;34m(self, constructor_fn, tag)\u001b[0m\n\u001b[1;32m    309\u001b[0m       \u001b[0mnewly\u001b[0m\u001b[0;34m-\u001b[0m\u001b[0mconstructed\u001b[0m\u001b[0;34m.\u001b[0m\u001b[0;34m\u001b[0m\u001b[0;34m\u001b[0m\u001b[0m\n\u001b[1;32m    310\u001b[0m     \"\"\"\n\u001b[0;32m--> 311\u001b[0;31m     \u001b[0;32mreturn\u001b[0m \u001b[0m_shared_map\u001b[0m\u001b[0;34m.\u001b[0m\u001b[0macquire\u001b[0m\u001b[0;34m(\u001b[0m\u001b[0mself\u001b[0m\u001b[0;34m.\u001b[0m\u001b[0m_key\u001b[0m\u001b[0;34m,\u001b[0m \u001b[0mconstructor_fn\u001b[0m\u001b[0;34m,\u001b[0m \u001b[0mtag\u001b[0m\u001b[0;34m)\u001b[0m\u001b[0;34m\u001b[0m\u001b[0;34m\u001b[0m\u001b[0m\n\u001b[0m",
      "\u001b[0;32m/usr/local/lib/python3.8/site-packages/apache_beam/utils/shared.py\u001b[0m in \u001b[0;36macquire\u001b[0;34m(self, key, constructor_fn, tag)\u001b[0m\n\u001b[1;32m    250\u001b[0m         \u001b[0mself\u001b[0m\u001b[0;34m.\u001b[0m\u001b[0m_cache_map\u001b[0m\u001b[0;34m[\u001b[0m\u001b[0mkey\u001b[0m\u001b[0;34m]\u001b[0m \u001b[0;34m=\u001b[0m \u001b[0mcontrol_block\u001b[0m\u001b[0;34m\u001b[0m\u001b[0;34m\u001b[0m\u001b[0m\n\u001b[1;32m    251\u001b[0m \u001b[0;34m\u001b[0m\u001b[0m\n\u001b[0;32m--> 252\u001b[0;31m     \u001b[0mresult\u001b[0m \u001b[0;34m=\u001b[0m \u001b[0mcontrol_block\u001b[0m\u001b[0;34m.\u001b[0m\u001b[0macquire\u001b[0m\u001b[0;34m(\u001b[0m\u001b[0mconstructor_fn\u001b[0m\u001b[0;34m,\u001b[0m \u001b[0mtag\u001b[0m\u001b[0;34m)\u001b[0m\u001b[0;34m\u001b[0m\u001b[0;34m\u001b[0m\u001b[0m\n\u001b[0m\u001b[1;32m    253\u001b[0m \u001b[0;34m\u001b[0m\u001b[0m\n\u001b[1;32m    254\u001b[0m     \u001b[0;31m# Because we release the lock in between, if we acquire multiple Shareds\u001b[0m\u001b[0;34m\u001b[0m\u001b[0;34m\u001b[0m\u001b[0;34m\u001b[0m\u001b[0m\n",
      "\u001b[0;32m/usr/local/lib/python3.8/site-packages/apache_beam/utils/shared.py\u001b[0m in \u001b[0;36macquire\u001b[0;34m(self, constructor_fn, tag)\u001b[0m\n\u001b[1;32m    144\u001b[0m       \u001b[0;31m# self._tag != tag if user specifies a new identifier\u001b[0m\u001b[0;34m\u001b[0m\u001b[0;34m\u001b[0m\u001b[0;34m\u001b[0m\u001b[0m\n\u001b[1;32m    145\u001b[0m       \u001b[0;32mif\u001b[0m \u001b[0mself\u001b[0m\u001b[0;34m.\u001b[0m\u001b[0m_ref\u001b[0m \u001b[0;32mis\u001b[0m \u001b[0;32mNone\u001b[0m \u001b[0;32mor\u001b[0m \u001b[0mself\u001b[0m\u001b[0;34m.\u001b[0m\u001b[0m_ref\u001b[0m\u001b[0;34m(\u001b[0m\u001b[0;34m)\u001b[0m \u001b[0;32mis\u001b[0m \u001b[0;32mNone\u001b[0m \u001b[0;32mor\u001b[0m \u001b[0mself\u001b[0m\u001b[0;34m.\u001b[0m\u001b[0m_tag\u001b[0m \u001b[0;34m!=\u001b[0m \u001b[0mtag\u001b[0m\u001b[0;34m:\u001b[0m\u001b[0;34m\u001b[0m\u001b[0;34m\u001b[0m\u001b[0m\n\u001b[0;32m--> 146\u001b[0;31m         \u001b[0mresult\u001b[0m \u001b[0;34m=\u001b[0m \u001b[0mconstructor_fn\u001b[0m\u001b[0;34m(\u001b[0m\u001b[0;34m)\u001b[0m\u001b[0;34m\u001b[0m\u001b[0;34m\u001b[0m\u001b[0m\n\u001b[0m\u001b[1;32m    147\u001b[0m         \u001b[0;32mif\u001b[0m \u001b[0mresult\u001b[0m \u001b[0;32mis\u001b[0m \u001b[0;32mNone\u001b[0m\u001b[0;34m:\u001b[0m\u001b[0;34m\u001b[0m\u001b[0;34m\u001b[0m\u001b[0m\n\u001b[1;32m    148\u001b[0m           \u001b[0;32mreturn\u001b[0m \u001b[0;32mNone\u001b[0m\u001b[0;34m\u001b[0m\u001b[0;34m\u001b[0m\u001b[0m\n",
      "\u001b[0;32m/usr/local/lib/python3.8/site-packages/tensorflow_model_analysis/types.py\u001b[0m in \u001b[0;36mwith_load_times\u001b[0;34m()\u001b[0m\n\u001b[1;32m    171\u001b[0m     \u001b[0;32mdef\u001b[0m \u001b[0mwith_load_times\u001b[0m\u001b[0;34m(\u001b[0m\u001b[0;34m)\u001b[0m\u001b[0;34m:\u001b[0m\u001b[0;34m\u001b[0m\u001b[0;34m\u001b[0m\u001b[0m\n\u001b[1;32m    172\u001b[0m       \u001b[0mstart_time\u001b[0m \u001b[0;34m=\u001b[0m \u001b[0mdatetime\u001b[0m\u001b[0;34m.\u001b[0m\u001b[0mdatetime\u001b[0m\u001b[0;34m.\u001b[0m\u001b[0mnow\u001b[0m\u001b[0;34m(\u001b[0m\u001b[0;34m)\u001b[0m\u001b[0;34m\u001b[0m\u001b[0;34m\u001b[0m\u001b[0m\n\u001b[0;32m--> 173\u001b[0;31m       \u001b[0mmodel\u001b[0m \u001b[0;34m=\u001b[0m \u001b[0mself\u001b[0m\u001b[0;34m.\u001b[0m\u001b[0mconstruct_fn\u001b[0m\u001b[0;34m(\u001b[0m\u001b[0;34m)\u001b[0m\u001b[0;34m\u001b[0m\u001b[0;34m\u001b[0m\u001b[0m\n\u001b[0m\u001b[1;32m    174\u001b[0m       \u001b[0mend_time\u001b[0m \u001b[0;34m=\u001b[0m \u001b[0mdatetime\u001b[0m\u001b[0;34m.\u001b[0m\u001b[0mdatetime\u001b[0m\u001b[0;34m.\u001b[0m\u001b[0mnow\u001b[0m\u001b[0;34m(\u001b[0m\u001b[0;34m)\u001b[0m\u001b[0;34m\u001b[0m\u001b[0;34m\u001b[0m\u001b[0m\n\u001b[1;32m    175\u001b[0m       \u001b[0mmodel_load_time_callback\u001b[0m\u001b[0;34m(\u001b[0m\u001b[0mint\u001b[0m\u001b[0;34m(\u001b[0m\u001b[0;34m(\u001b[0m\u001b[0mend_time\u001b[0m \u001b[0;34m-\u001b[0m \u001b[0mstart_time\u001b[0m\u001b[0;34m)\u001b[0m\u001b[0;34m.\u001b[0m\u001b[0mtotal_seconds\u001b[0m\u001b[0;34m(\u001b[0m\u001b[0;34m)\u001b[0m\u001b[0;34m)\u001b[0m\u001b[0;34m)\u001b[0m\u001b[0;34m\u001b[0m\u001b[0;34m\u001b[0m\u001b[0m\n",
      "\u001b[0;32m/usr/local/lib/python3.8/site-packages/tensorflow_model_analysis/model_util.py\u001b[0m in \u001b[0;36mconstruct_fn\u001b[0;34m()\u001b[0m\n\u001b[1;32m    643\u001b[0m       \u001b[0;32mreturn\u001b[0m \u001b[0;32mNone\u001b[0m\u001b[0;34m\u001b[0m\u001b[0;34m\u001b[0m\u001b[0m\n\u001b[1;32m    644\u001b[0m     \u001b[0;32melse\u001b[0m\u001b[0;34m:\u001b[0m\u001b[0;34m\u001b[0m\u001b[0;34m\u001b[0m\u001b[0m\n\u001b[0;32m--> 645\u001b[0;31m       \u001b[0mmodel\u001b[0m \u001b[0;34m=\u001b[0m \u001b[0mtf\u001b[0m\u001b[0;34m.\u001b[0m\u001b[0mcompat\u001b[0m\u001b[0;34m.\u001b[0m\u001b[0mv1\u001b[0m\u001b[0;34m.\u001b[0m\u001b[0msaved_model\u001b[0m\u001b[0;34m.\u001b[0m\u001b[0mload_v2\u001b[0m\u001b[0;34m(\u001b[0m\u001b[0meval_saved_model_path\u001b[0m\u001b[0;34m,\u001b[0m \u001b[0mtags\u001b[0m\u001b[0;34m=\u001b[0m\u001b[0mtags\u001b[0m\u001b[0;34m)\u001b[0m\u001b[0;34m\u001b[0m\u001b[0;34m\u001b[0m\u001b[0m\n\u001b[0m\u001b[1;32m    646\u001b[0m     \u001b[0;32mreturn\u001b[0m \u001b[0mmodel\u001b[0m\u001b[0;34m\u001b[0m\u001b[0;34m\u001b[0m\u001b[0m\n\u001b[1;32m    647\u001b[0m \u001b[0;34m\u001b[0m\u001b[0m\n",
      "\u001b[0;32m/usr/local/lib/python3.8/site-packages/tensorflow/python/saved_model/load.py\u001b[0m in \u001b[0;36mload\u001b[0;34m(export_dir, tags, options)\u001b[0m\n\u001b[1;32m    867\u001b[0m     \u001b[0mValueError\u001b[0m\u001b[0;34m:\u001b[0m \u001b[0mIf\u001b[0m\u001b[0;31m \u001b[0m\u001b[0;31m`\u001b[0m\u001b[0mtags\u001b[0m\u001b[0;31m`\u001b[0m \u001b[0mdon\u001b[0m\u001b[0;31m'\u001b[0m\u001b[0mt\u001b[0m \u001b[0mmatch\u001b[0m \u001b[0ma\u001b[0m \u001b[0mMetaGraph\u001b[0m \u001b[0;32min\u001b[0m \u001b[0mthe\u001b[0m \u001b[0mSavedModel\u001b[0m\u001b[0;34m.\u001b[0m\u001b[0;34m\u001b[0m\u001b[0;34m\u001b[0m\u001b[0m\n\u001b[1;32m    868\u001b[0m   \"\"\"\n\u001b[0;32m--> 869\u001b[0;31m   \u001b[0;32mreturn\u001b[0m \u001b[0mload_internal\u001b[0m\u001b[0;34m(\u001b[0m\u001b[0mexport_dir\u001b[0m\u001b[0;34m,\u001b[0m \u001b[0mtags\u001b[0m\u001b[0;34m,\u001b[0m \u001b[0moptions\u001b[0m\u001b[0;34m)\u001b[0m\u001b[0;34m[\u001b[0m\u001b[0;34m\"root\"\u001b[0m\u001b[0;34m]\u001b[0m\u001b[0;34m\u001b[0m\u001b[0;34m\u001b[0m\u001b[0m\n\u001b[0m\u001b[1;32m    870\u001b[0m \u001b[0;34m\u001b[0m\u001b[0m\n\u001b[1;32m    871\u001b[0m \u001b[0;34m\u001b[0m\u001b[0m\n",
      "\u001b[0;32m/usr/local/lib/python3.8/site-packages/tensorflow/python/saved_model/load.py\u001b[0m in \u001b[0;36mload_internal\u001b[0;34m(export_dir, tags, options, loader_cls, filters)\u001b[0m\n\u001b[1;32m    879\u001b[0m     \u001b[0mtags\u001b[0m \u001b[0;34m=\u001b[0m \u001b[0mnest\u001b[0m\u001b[0;34m.\u001b[0m\u001b[0mflatten\u001b[0m\u001b[0;34m(\u001b[0m\u001b[0mtags\u001b[0m\u001b[0;34m)\u001b[0m\u001b[0;34m\u001b[0m\u001b[0;34m\u001b[0m\u001b[0m\n\u001b[1;32m    880\u001b[0m   saved_model_proto, debug_info = (\n\u001b[0;32m--> 881\u001b[0;31m       loader_impl.parse_saved_model_with_debug_info(export_dir))\n\u001b[0m\u001b[1;32m    882\u001b[0m \u001b[0;34m\u001b[0m\u001b[0m\n\u001b[1;32m    883\u001b[0m   if (len(saved_model_proto.meta_graphs) == 1 and\n",
      "\u001b[0;32m/usr/local/lib/python3.8/site-packages/tensorflow/python/saved_model/loader_impl.py\u001b[0m in \u001b[0;36mparse_saved_model_with_debug_info\u001b[0;34m(export_dir)\u001b[0m\n\u001b[1;32m     54\u001b[0m     \u001b[0mparsed\u001b[0m\u001b[0;34m.\u001b[0m \u001b[0mMissing\u001b[0m \u001b[0mgraph\u001b[0m \u001b[0mdebug\u001b[0m \u001b[0minfo\u001b[0m \u001b[0mfile\u001b[0m \u001b[0;32mis\u001b[0m \u001b[0mfine\u001b[0m\u001b[0;34m.\u001b[0m\u001b[0;34m\u001b[0m\u001b[0;34m\u001b[0m\u001b[0m\n\u001b[1;32m     55\u001b[0m   \"\"\"\n\u001b[0;32m---> 56\u001b[0;31m   \u001b[0msaved_model\u001b[0m \u001b[0;34m=\u001b[0m \u001b[0m_parse_saved_model\u001b[0m\u001b[0;34m(\u001b[0m\u001b[0mexport_dir\u001b[0m\u001b[0;34m)\u001b[0m\u001b[0;34m\u001b[0m\u001b[0;34m\u001b[0m\u001b[0m\n\u001b[0m\u001b[1;32m     57\u001b[0m \u001b[0;34m\u001b[0m\u001b[0m\n\u001b[1;32m     58\u001b[0m   debug_info_path = os.path.join(\n",
      "\u001b[0;32m/usr/local/lib/python3.8/site-packages/tensorflow/python/saved_model/loader_impl.py\u001b[0m in \u001b[0;36mparse_saved_model\u001b[0;34m(export_dir)\u001b[0m\n\u001b[1;32m    111\u001b[0m       \u001b[0;32mraise\u001b[0m \u001b[0mIOError\u001b[0m\u001b[0;34m(\u001b[0m\u001b[0;34m\"Cannot parse file %s: %s.\"\u001b[0m \u001b[0;34m%\u001b[0m \u001b[0;34m(\u001b[0m\u001b[0mpath_to_pbtxt\u001b[0m\u001b[0;34m,\u001b[0m \u001b[0mstr\u001b[0m\u001b[0;34m(\u001b[0m\u001b[0me\u001b[0m\u001b[0;34m)\u001b[0m\u001b[0;34m)\u001b[0m\u001b[0;34m)\u001b[0m\u001b[0;34m\u001b[0m\u001b[0;34m\u001b[0m\u001b[0m\n\u001b[1;32m    112\u001b[0m   \u001b[0;32melse\u001b[0m\u001b[0;34m:\u001b[0m\u001b[0;34m\u001b[0m\u001b[0;34m\u001b[0m\u001b[0m\n\u001b[0;32m--> 113\u001b[0;31m     raise IOError(\n\u001b[0m\u001b[1;32m    114\u001b[0m         \u001b[0;34m\"SavedModel file does not exist at: %s%s{%s|%s}\"\u001b[0m \u001b[0;34m%\u001b[0m\u001b[0;34m\u001b[0m\u001b[0;34m\u001b[0m\u001b[0m\n\u001b[1;32m    115\u001b[0m         (export_dir, os.path.sep, constants.SAVED_MODEL_FILENAME_PBTXT,\n",
      "\u001b[0;31mOSError\u001b[0m: SavedModel file does not exist at: /tmp/past-dataiqa7nhlr/model/{saved_model.pbtxt|saved_model.pb} [while running 'ExtractEvaluateAndWriteResults/ExtractAndEvaluate/ExtractTransformedFeatures/Predict']"
     ]
    }
   ],
   "source": [
    "import tensorflow_decision_forests\n",
    "\n",
    "# Put data paths we prepared earlier in a list\n",
    "TFRECORDS = [TFRECORD_DAY1, TFRECORD_DAY2]\n",
    "\n",
    "# Initialize output paths list for each result \n",
    "output_paths = []\n",
    "\n",
    "# Run eval on each tfrecord separately\n",
    "for num, tfrecord in enumerate(TFRECORDS):\n",
    "\n",
    "    # Use the same model as before\n",
    "    eval_shared_model = tfma.default_eval_shared_model(\n",
    "      eval_saved_model_path=new_model_path,\n",
    "      eval_config=eval_config)\n",
    "\n",
    "    # Prepare output path name\n",
    "    output_path = os.path.join('.', 'time_series', str(num))\n",
    "    output_paths.append(output_path)\n",
    "\n",
    "    # Run TFMA on the current tfrecord in the loop\n",
    "    tfma.run_model_analysis(eval_shared_model=eval_shared_model,\n",
    "                          eval_config=eval_config,\n",
    "                          data_location=tfrecord,\n",
    "                          output_path=output_path)"
   ]
  },
  {
   "cell_type": "code",
   "execution_count": null,
   "id": "06565894",
   "metadata": {},
   "outputs": [],
   "source": [
    "# Load results for day 1 and day 2 datasets\n",
    "eval_results_from_disk = tfma.load_eval_results(output_paths[:2])\n",
    "\n",
    "# Visualize results\n",
    "tfma.view.render_time_series(eval_results_from_disk)"
   ]
  }
 ],
 "metadata": {
  "interpreter": {
   "hash": "1e64235362b4bce38859efec06bbd24dafab4dadcfd37a0f4f232e16175a6897"
  },
  "kernelspec": {
   "display_name": "Python 3 (ipykernel)",
   "language": "python",
   "name": "python3"
  },
  "language_info": {
   "codemirror_mode": {
    "name": "ipython",
    "version": 3
   },
   "file_extension": ".py",
   "mimetype": "text/x-python",
   "name": "python",
   "nbconvert_exporter": "python",
   "pygments_lexer": "ipython3",
   "version": "3.8.11"
  }
 },
 "nbformat": 4,
 "nbformat_minor": 5
}
