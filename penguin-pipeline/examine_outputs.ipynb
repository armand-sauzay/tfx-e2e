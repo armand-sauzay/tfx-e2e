{
 "cells": [
  {
   "cell_type": "markdown",
   "id": "af79af72",
   "metadata": {},
   "source": [
    "This file runs each step of pipeline seperately as a debug tool"
   ]
  },
  {
   "cell_type": "code",
   "execution_count": 133,
   "id": "858726bd",
   "metadata": {},
   "outputs": [],
   "source": [
    "from tfx import v1 as tfx\n",
    "from pipeline.config import pipe_config\n",
    "# import tensorflow_decision_forests as tfdf"
   ]
  },
  {
   "cell_type": "code",
   "execution_count": 134,
   "id": "2324a327",
   "metadata": {},
   "outputs": [],
   "source": [
    "from tfx.orchestration.experimental.interactive import visualizations\n",
    "\n",
    "def visualize_artifacts(artifacts):\n",
    "  \"\"\"Visualizes artifacts using standard visualization modules.\"\"\"\n",
    "  for artifact in artifacts:\n",
    "    visualization = visualizations.get_registry().get_visualization(\n",
    "        artifact.type_name)\n",
    "    if visualization:\n",
    "      visualization.display(artifact)\n",
    "\n",
    "from tfx.orchestration.experimental.interactive import standard_visualizations\n",
    "standard_visualizations.register_standard_visualizations()"
   ]
  },
  {
   "cell_type": "markdown",
   "id": "70182d42",
   "metadata": {},
   "source": [
    "# Connect to Pipeline output"
   ]
  },
  {
   "cell_type": "code",
   "execution_count": 135,
   "id": "2eeb6e6d",
   "metadata": {},
   "outputs": [],
   "source": [
    "# from ml_metadata import metadata_store\n",
    "# connection_config = metadata_store_pb2.ConnectionConfig()\n",
    "# connection_config.sqlite.filename_uri = pipe_config.METADATA_PATH\n",
    "# store = metadata_store.MetadataStore(connection_config,enable_upgrade_migration = True)\n",
    "metadata_connection_config = tfx.orchestration.metadata.sqlite_metadata_connection_config(\n",
    "    pipe_config.METADATA_PATH)"
   ]
  },
  {
   "cell_type": "code",
   "execution_count": 136,
   "id": "f1ae2b8d",
   "metadata": {},
   "outputs": [],
   "source": [
    "# get lattest trainer artifacts\n",
    "from pipeline.schema_pipeline.utils import get_latest_artifacts\n",
    "from tfx.orchestration.metadata import Metadata\n",
    "from tfx.types import standard_component_specs\n",
    "\n",
    "with Metadata(metadata_connection_config) as metadata_handler:\n",
    "    stat_gen_output = get_latest_artifacts(metadata_handler, pipe_config.PIPELINE_NAME,\n",
    "                                         'StatisticsGen')\n",
    "    stats_artifacts = stat_gen_output[standard_component_specs.STATISTICS_KEY]\n",
    "\n",
    "    ev_output = get_latest_artifacts(metadata_handler, pipe_config.PIPELINE_NAME,\n",
    "                                   'ExampleValidator')\n",
    "    anomalies_artifacts = ev_output[standard_component_specs.ANOMALIES_KEY]\n",
    "\n",
    "    trainer_outputs = get_latest_artifacts(metadata_handler, pipe_config.PIPELINE_NAME,\n",
    "                                          'Trainer')\n",
    "    example_gen_outputs = get_latest_artifacts(metadata_handler, pipe_config.PIPELINE_NAME,\n",
    "                                          'CsvExampleGen')\n",
    "    evaluator_outputs = get_latest_artifacts(metadata_handler, pipe_config.PIPELINE_NAME,\n",
    "                                          'Evaluator')\n",
    "    eval_artifact = evaluator_outputs[standard_component_specs.EVALUATION_KEY][0]\n",
    "    "
   ]
  },
  {
   "cell_type": "code",
   "execution_count": 137,
   "id": "44e8478d-852a-4426-9838-c418560685a2",
   "metadata": {},
   "outputs": [
    {
     "data": {
      "text/plain": [
       "defaultdict(list,\n",
       "            {'evaluation': [Artifact(artifact: id: 36\n",
       "              type_id: 26\n",
       "              uri: \"pipeline_output/penguin-e2e/Evaluator/evaluation/33\"\n",
       "              custom_properties {\n",
       "                key: \"name\"\n",
       "                value {\n",
       "                  string_value: \"penguin-e2e:2021-08-28T05:10:37.674821:Evaluator:evaluation:0\"\n",
       "                }\n",
       "              }\n",
       "              custom_properties {\n",
       "                key: \"tfx_version\"\n",
       "                value {\n",
       "                  string_value: \"1.2.0\"\n",
       "                }\n",
       "              }\n",
       "              state: LIVE\n",
       "              create_time_since_epoch: 1630127477669\n",
       "              last_update_time_since_epoch: 1630127477669\n",
       "              , artifact_type: id: 26\n",
       "              name: \"ModelEvaluation\"\n",
       "              )],\n",
       "             'blessing': [Artifact(artifact: id: 37\n",
       "              type_id: 25\n",
       "              uri: \"pipeline_output/penguin-e2e/Evaluator/blessing/33\"\n",
       "              custom_properties {\n",
       "                key: \"baseline_model\"\n",
       "                value {\n",
       "                  string_value: \"pipeline_output/penguin-e2e/Trainer/model/24\"\n",
       "                }\n",
       "              }\n",
       "              custom_properties {\n",
       "                key: \"baseline_model_id\"\n",
       "                value {\n",
       "                  int_value: 27\n",
       "                }\n",
       "              }\n",
       "              custom_properties {\n",
       "                key: \"blessed\"\n",
       "                value {\n",
       "                  int_value: 0\n",
       "                }\n",
       "              }\n",
       "              custom_properties {\n",
       "                key: \"current_model\"\n",
       "                value {\n",
       "                  string_value: \"pipeline_output/penguin-e2e/Trainer/model/32\"\n",
       "                }\n",
       "              }\n",
       "              custom_properties {\n",
       "                key: \"current_model_id\"\n",
       "                value {\n",
       "                  int_value: 35\n",
       "                }\n",
       "              }\n",
       "              custom_properties {\n",
       "                key: \"name\"\n",
       "                value {\n",
       "                  string_value: \"penguin-e2e:2021-08-28T05:10:37.674821:Evaluator:blessing:0\"\n",
       "                }\n",
       "              }\n",
       "              custom_properties {\n",
       "                key: \"tfx_version\"\n",
       "                value {\n",
       "                  string_value: \"1.2.0\"\n",
       "                }\n",
       "              }\n",
       "              state: LIVE\n",
       "              create_time_since_epoch: 1630127477720\n",
       "              last_update_time_since_epoch: 1630127477720\n",
       "              , artifact_type: id: 25\n",
       "              name: \"ModelBlessing\"\n",
       "              )]})"
      ]
     },
     "execution_count": 137,
     "metadata": {},
     "output_type": "execute_result"
    }
   ],
   "source": [
    "evaluator_outputs"
   ]
  },
  {
   "cell_type": "markdown",
   "id": "a22ed151",
   "metadata": {},
   "source": [
    "## Stats Gen"
   ]
  },
  {
   "cell_type": "code",
   "execution_count": 138,
   "id": "db8f6ee5",
   "metadata": {},
   "outputs": [
    {
     "data": {
      "text/html": [
       "<div><b>'train' split:</b></div><br/>"
      ],
      "text/plain": [
       "<IPython.core.display.HTML object>"
      ]
     },
     "metadata": {},
     "output_type": "display_data"
    },
    {
     "data": {
      "text/html": [
       "<iframe id='facets-iframe' width=\"100%\" height=\"500px\"></iframe>\n",
       "        <script>\n",
       "        facets_iframe = document.getElementById('facets-iframe');\n",
       "        facets_html = '<script src=\"https://cdnjs.cloudflare.com/ajax/libs/webcomponentsjs/1.3.3/webcomponents-lite.js\"><\\/script><link rel=\"import\" href=\"https://raw.githubusercontent.com/PAIR-code/facets/master/facets-dist/facets-jupyter.html\"><facets-overview proto-input=\"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\"></facets-overview>';\n",
       "        facets_iframe.srcdoc = facets_html;\n",
       "         facets_iframe.id = \"\";\n",
       "         setTimeout(() => {\n",
       "           facets_iframe.setAttribute('height', facets_iframe.contentWindow.document.body.offsetHeight + 'px')\n",
       "         }, 1500)\n",
       "         </script>"
      ],
      "text/plain": [
       "<IPython.core.display.HTML object>"
      ]
     },
     "metadata": {},
     "output_type": "display_data"
    },
    {
     "data": {
      "text/html": [
       "<div><b>'eval' split:</b></div><br/>"
      ],
      "text/plain": [
       "<IPython.core.display.HTML object>"
      ]
     },
     "metadata": {},
     "output_type": "display_data"
    },
    {
     "data": {
      "text/html": [
       "<iframe id='facets-iframe' width=\"100%\" height=\"500px\"></iframe>\n",
       "        <script>\n",
       "        facets_iframe = document.getElementById('facets-iframe');\n",
       "        facets_html = '<script src=\"https://cdnjs.cloudflare.com/ajax/libs/webcomponentsjs/1.3.3/webcomponents-lite.js\"><\\/script><link rel=\"import\" href=\"https://raw.githubusercontent.com/PAIR-code/facets/master/facets-dist/facets-jupyter.html\"><facets-overview proto-input=\"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\"></facets-overview>';\n",
       "        facets_iframe.srcdoc = facets_html;\n",
       "         facets_iframe.id = \"\";\n",
       "         setTimeout(() => {\n",
       "           facets_iframe.setAttribute('height', facets_iframe.contentWindow.document.body.offsetHeight + 'px')\n",
       "         }, 1500)\n",
       "         </script>"
      ],
      "text/plain": [
       "<IPython.core.display.HTML object>"
      ]
     },
     "metadata": {},
     "output_type": "display_data"
    }
   ],
   "source": [
    "visualize_artifacts(stats_artifacts)"
   ]
  },
  {
   "cell_type": "markdown",
   "id": "512e24f1",
   "metadata": {},
   "source": [
    "## Example Validator"
   ]
  },
  {
   "cell_type": "code",
   "execution_count": 139,
   "id": "8a69c407",
   "metadata": {},
   "outputs": [
    {
     "data": {
      "text/html": [
       "<div><b>'train' split:</b></div><br/>"
      ],
      "text/plain": [
       "<IPython.core.display.HTML object>"
      ]
     },
     "metadata": {},
     "output_type": "display_data"
    },
    {
     "name": "stderr",
     "output_type": "stream",
     "text": [
      "/Users/robertfu/Projects/tfx-e2e/penguin-pipeline/.venv/lib/python3.8/site-packages/tensorflow_data_validation/utils/display_util.py:217: FutureWarning: Passing a negative integer is deprecated in version 1.0 and will not be supported in future version. Instead, use None to not limit the column width.\n",
      "  pd.set_option('max_colwidth', -1)\n"
     ]
    },
    {
     "data": {
      "text/html": [
       "<h4 style=\"color:green;\">No anomalies found.</h4>"
      ],
      "text/plain": [
       "<IPython.core.display.HTML object>"
      ]
     },
     "metadata": {},
     "output_type": "display_data"
    },
    {
     "data": {
      "text/html": [
       "<div><b>'eval' split:</b></div><br/>"
      ],
      "text/plain": [
       "<IPython.core.display.HTML object>"
      ]
     },
     "metadata": {},
     "output_type": "display_data"
    },
    {
     "data": {
      "text/html": [
       "<h4 style=\"color:green;\">No anomalies found.</h4>"
      ],
      "text/plain": [
       "<IPython.core.display.HTML object>"
      ]
     },
     "metadata": {},
     "output_type": "display_data"
    }
   ],
   "source": [
    "\n",
    "visualize_artifacts(anomalies_artifacts)"
   ]
  },
  {
   "cell_type": "markdown",
   "id": "bbc40521",
   "metadata": {},
   "source": [
    "## Trainer"
   ]
  },
  {
   "cell_type": "code",
   "execution_count": 140,
   "id": "41864001",
   "metadata": {},
   "outputs": [],
   "source": [
    "model_run_artifact_dir = trainer_outputs['model_run'][0].uri"
   ]
  },
  {
   "cell_type": "code",
   "execution_count": 141,
   "id": "8dbeb360",
   "metadata": {},
   "outputs": [
    {
     "data": {
      "text/html": [
       "\n",
       "      <iframe id=\"tensorboard-frame-f8feb9f73c90c643\" width=\"100%\" height=\"800\" frameborder=\"0\">\n",
       "      </iframe>\n",
       "      <script>\n",
       "        (function() {\n",
       "          const frame = document.getElementById(\"tensorboard-frame-f8feb9f73c90c643\");\n",
       "          const url = new URL(\"/\", window.location);\n",
       "          const port = 6008;\n",
       "          if (port) {\n",
       "            url.port = port;\n",
       "          }\n",
       "          frame.src = url;\n",
       "        })();\n",
       "      </script>\n",
       "    "
      ],
      "text/plain": [
       "<IPython.core.display.HTML object>"
      ]
     },
     "metadata": {},
     "output_type": "display_data"
    }
   ],
   "source": [
    "# %load_ext tensorboard\n",
    "%tensorboard --logdir {model_run_artifact_dir}"
   ]
  },
  {
   "cell_type": "markdown",
   "id": "dde0f58d",
   "metadata": {},
   "source": [
    "## Evaluator"
   ]
  },
  {
   "cell_type": "code",
   "execution_count": 142,
   "id": "00597a64-a83a-4c2d-9690-d9e106ed7ca4",
   "metadata": {},
   "outputs": [],
   "source": [
    "import tensorflow_model_analysis as tfma"
   ]
  },
  {
   "cell_type": "code",
   "execution_count": 143,
   "id": "c8c2b88b",
   "metadata": {},
   "outputs": [],
   "source": [
    "# !jupyter nbextension enable --py widgetsnbextension\n",
    "# !jupyter nbextension enable --py tensorflow_model_analysis\n",
    "# !jupyter labextension install tensorflow_model_analysis@0.33.0"
   ]
  },
  {
   "cell_type": "code",
   "execution_count": 144,
   "id": "c3fd2f54",
   "metadata": {},
   "outputs": [
    {
     "name": "stdout",
     "output_type": "stream",
     "text": [
      "Known nbextensions:\n",
      "  config dir: /Users/robertfu/.jupyter/nbconfig\n",
      "    notebook section\n",
      "      jupyter-js-widgets/extension  enabled \n",
      "      - Validating: OK\n",
      "      tensorflow_model_analysis/extension  enabled \n",
      "      - Validating: OK\n",
      "  config dir: /Users/robertfu/Projects/tfx-e2e/penguin-pipeline/.venv/etc/jupyter/nbconfig\n",
      "    notebook section\n",
      "      jupyter-js-widgets/extension  enabled \n",
      "      - Validating: OK\n",
      "JupyterLab v3.1.9\n",
      "/Users/robertfu/Projects/tfx-e2e/penguin-pipeline/.venv/share/jupyter/labextensions\n",
      "        @jupyter-widgets/jupyterlab-manager v3.0.0 enabled OK (python, jupyterlab_widgets)\n",
      "\n",
      "Other labextensions (built into JupyterLab)\n",
      "   app dir: /Users/robertfu/Projects/tfx-e2e/penguin-pipeline/.venv/share/jupyter/lab\n",
      "        tensorflow_model_analysis v0.33.0 enabled OK\n",
      "\n",
      "\n",
      "Build recommended, please run `jupyter lab build`:\n",
      "    @jupyterlab/docprovider-extension needs to be removed from build\n",
      "    @jupyterlab/application changed from ~3.1.8 to ~3.0.0\n",
      "    @jupyterlab/application-extension changed from ~3.1.8 to ~3.0.0\n",
      "    @jupyterlab/apputils-extension changed from ~3.1.9 to ~3.0.0\n",
      "    @jupyterlab/celltags-extension changed from ~3.1.8 to ~3.0.0\n",
      "    @jupyterlab/codemirror-extension changed from ~3.1.8 to ~3.0.0\n",
      "    @jupyterlab/completer-extension changed from ~3.1.8 to ~3.0.0\n",
      "    @jupyterlab/console-extension changed from ~3.1.8 to ~3.0.0\n",
      "    @jupyterlab/coreutils changed from ~5.1.8 to ~5.0.0\n",
      "    @jupyterlab/csvviewer-extension changed from ~3.1.8 to ~3.0.0\n",
      "    @jupyterlab/debugger-extension changed from ~3.1.8 to ~3.0.0\n",
      "    @jupyterlab/docmanager-extension changed from ~3.1.8 to ~3.0.0\n",
      "    @jupyterlab/documentsearch-extension changed from ~3.1.8 to ~3.0.0\n",
      "    @jupyterlab/extensionmanager-extension changed from ~3.1.8 to ~3.0.0\n",
      "    @jupyterlab/filebrowser-extension changed from ~3.1.8 to ~3.0.0\n",
      "    @jupyterlab/fileeditor-extension changed from ~3.1.8 to ~3.0.0\n",
      "    @jupyterlab/help-extension changed from ~3.1.8 to ~3.0.0\n",
      "    @jupyterlab/htmlviewer-extension changed from ~3.1.8 to ~3.0.0\n",
      "    @jupyterlab/hub-extension changed from ~3.1.8 to ~3.0.0\n",
      "    @jupyterlab/imageviewer-extension changed from ~3.1.8 to ~3.0.0\n",
      "    @jupyterlab/inspector-extension changed from ~3.1.8 to ~3.0.0\n",
      "    @jupyterlab/javascript-extension changed from ~3.1.9 to ~3.0.0\n",
      "    @jupyterlab/json-extension changed from ~3.1.9 to ~3.0.0\n",
      "    @jupyterlab/launcher-extension changed from ~3.1.8 to ~3.0.0\n",
      "    @jupyterlab/logconsole-extension changed from ~3.1.8 to ~3.0.0\n",
      "    @jupyterlab/mainmenu-extension changed from ~3.1.8 to ~3.0.0\n",
      "    @jupyterlab/markdownviewer-extension changed from ~3.1.8 to ~3.0.0\n",
      "    @jupyterlab/mathjax2-extension changed from ~3.1.8 to ~3.0.0\n",
      "    @jupyterlab/notebook-extension changed from ~3.1.8 to ~3.0.0\n",
      "    @jupyterlab/pdf-extension changed from ~3.1.8 to ~3.0.0\n",
      "    @jupyterlab/rendermime-extension changed from ~3.1.8 to ~3.0.0\n",
      "    @jupyterlab/running-extension changed from ~3.1.8 to ~3.0.0\n",
      "    @jupyterlab/settingeditor-extension changed from ~3.1.8 to ~3.0.0\n",
      "    @jupyterlab/shortcuts-extension changed from ~3.1.8 to ~3.0.0\n",
      "    @jupyterlab/statusbar-extension changed from ~3.1.8 to ~3.0.0\n",
      "    @jupyterlab/terminal-extension changed from ~3.1.8 to ~3.0.0\n",
      "    @jupyterlab/theme-dark-extension changed from ~3.1.8 to ~3.0.0\n",
      "    @jupyterlab/theme-light-extension changed from ~3.1.8 to ~3.0.0\n",
      "    @jupyterlab/toc-extension changed from ~5.1.8 to ~5.0.0\n",
      "    @jupyterlab/tooltip-extension changed from ~3.1.8 to ~3.0.0\n",
      "    @jupyterlab/translation-extension changed from ~3.1.8 to ~3.0.0\n",
      "    @jupyterlab/ui-components-extension changed from ~3.1.8 to ~3.0.0\n",
      "    @jupyterlab/vdom-extension changed from ~3.1.9 to ~3.0.0\n",
      "    @jupyterlab/vega5-extension changed from ~3.1.9 to ~3.0.0\n"
     ]
    }
   ],
   "source": [
    "!jupyter nbextension list\n",
    "!jupyter labextension list  # for JupyterLab\n"
   ]
  },
  {
   "cell_type": "code",
   "execution_count": 164,
   "id": "f20a7fb1",
   "metadata": {},
   "outputs": [],
   "source": [
    "eval_result = tfma.load_eval_result(eval_artifact.uri,model_name=\"candidate\")"
   ]
  },
  {
   "cell_type": "code",
   "execution_count": 165,
   "id": "6f19496f-5d5e-48c0-bd12-0cbb100c547c",
   "metadata": {},
   "outputs": [
    {
     "data": {
      "application/vnd.jupyter.widget-view+json": {
       "model_id": "93b42f22409541a28cb440162546c6d1",
       "version_major": 2,
       "version_minor": 0
      },
      "text/plain": [
       "SlicingMetricsViewer(config={'weightedExamplesColumn': 'example_count'}, data=[{'slice': 'sex:male', 'metrics'…"
      ]
     },
     "metadata": {},
     "output_type": "display_data"
    }
   ],
   "source": [
    "tfma.view.render_slicing_metrics(eval_result,slicing_column='sex')"
   ]
  },
  {
   "cell_type": "code",
   "execution_count": 148,
   "id": "c92b536b-544c-4c77-b4f8-4bb4c69a0a4b",
   "metadata": {},
   "outputs": [
    {
     "data": {
      "application/vnd.jupyter.widget-view+json": {
       "model_id": "42709c3109f74d10a30cc7cad9c73499",
       "version_major": 2,
       "version_minor": 0
      },
      "text/plain": [
       "FairnessIndicatorViewer(slicingMetrics=[{'sliceValue': 'male', 'slice': 'sex:male', 'metrics': {'sparse_catego…"
      ]
     },
     "metadata": {},
     "output_type": "display_data"
    }
   ],
   "source": [
    "tfma.addons.fairness.view.widget_view.render_fairness_indicator(eval_result)"
   ]
  },
  {
   "cell_type": "code",
   "execution_count": 161,
   "id": "7afbd9e1",
   "metadata": {},
   "outputs": [
    {
     "data": {
      "application/vnd.jupyter.widget-view+json": {
       "model_id": "f47ac72587634c2fba2de59e4be267ae",
       "version_major": 2,
       "version_minor": 0
      },
      "text/plain": [
       "PlotViewer(config={'sliceName': 'sex:male', 'metricKeys': {'calibrationPlot': {'metricName': 'calibrationHisto…"
      ]
     },
     "metadata": {},
     "output_type": "display_data"
    }
   ],
   "source": [
    "tfma.view.render_plot(eval_result, tfma.SlicingSpec(feature_values={\"sex\": \"male\"}))"
   ]
  },
  {
   "cell_type": "code",
   "execution_count": 160,
   "id": "9bb69150-7c67-4396-9764-98b5e2fda4a6",
   "metadata": {},
   "outputs": [
    {
     "data": {
      "application/vnd.jupyter.widget-view+json": {
       "model_id": "058a5e308dea4148a32533007356593b",
       "version_major": 2,
       "version_minor": 0
      },
      "text/plain": [
       "PlotViewer(config={'sliceName': 'Overall', 'metricKeys': {'calibrationPlot': {'metricName': 'calibrationHistog…"
      ]
     },
     "metadata": {},
     "output_type": "display_data"
    }
   ],
   "source": [
    "tfma.view.render_plot(eval_result, tfma.SlicingSpec()) # whole dataset"
   ]
  },
  {
   "cell_type": "code",
   "execution_count": null,
   "id": "35216090-8b56-4614-9942-524a1bd80d1e",
   "metadata": {},
   "outputs": [],
   "source": []
  }
 ],
 "metadata": {
  "interpreter": {
   "hash": "1e64235362b4bce38859efec06bbd24dafab4dadcfd37a0f4f232e16175a6897"
  },
  "kernelspec": {
   "display_name": "Python 3 (ipykernel)",
   "language": "python",
   "name": "python3"
  },
  "language_info": {
   "codemirror_mode": {
    "name": "ipython",
    "version": 3
   },
   "file_extension": ".py",
   "mimetype": "text/x-python",
   "name": "python",
   "nbconvert_exporter": "python",
   "pygments_lexer": "ipython3",
   "version": "3.8.2"
  }
 },
 "nbformat": 4,
 "nbformat_minor": 5
}
