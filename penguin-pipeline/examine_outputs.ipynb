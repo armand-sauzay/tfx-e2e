{
 "cells": [
  {
   "cell_type": "markdown",
   "id": "29f72e13",
   "metadata": {},
   "source": [
    "This file runs each step of pipeline seperately as a debug tool"
   ]
  },
  {
   "cell_type": "code",
   "execution_count": 1,
   "id": "99132933",
   "metadata": {},
   "outputs": [
    {
     "name": "stderr",
     "output_type": "stream",
     "text": [
      "2021-08-28 13:30:27.210394: W tensorflow/stream_executor/platform/default/dso_loader.cc:64] Could not load dynamic library 'libcudart.so.11.0'; dlerror: libcudart.so.11.0: cannot open shared object file: No such file or directory\n",
      "2021-08-28 13:30:27.210449: I tensorflow/stream_executor/cuda/cudart_stub.cc:29] Ignore above cudart dlerror if you do not have a GPU set up on your machine.\n"
     ]
    }
   ],
   "source": [
    "from tfx import v1 as tfx\n",
    "from pipeline.config import pipe_config\n",
    "# import tensorflow_decision_forests as tfdf"
   ]
  },
  {
   "cell_type": "code",
   "execution_count": 2,
   "id": "17f3dcb7",
   "metadata": {},
   "outputs": [],
   "source": [
    "from tfx.orchestration.experimental.interactive import visualizations\n",
    "\n",
    "def visualize_artifacts(artifacts):\n",
    "  \"\"\"Visualizes artifacts using standard visualization modules.\"\"\"\n",
    "  for artifact in artifacts:\n",
    "    visualization = visualizations.get_registry().get_visualization(\n",
    "        artifact.type_name)\n",
    "    if visualization:\n",
    "      visualization.display(artifact)\n",
    "\n",
    "from tfx.orchestration.experimental.interactive import standard_visualizations\n",
    "standard_visualizations.register_standard_visualizations()"
   ]
  },
  {
   "cell_type": "markdown",
   "id": "3953679c",
   "metadata": {},
   "source": [
    "# Connect to Pipeline output"
   ]
  },
  {
   "cell_type": "code",
   "execution_count": 3,
   "id": "5ea1dc5a",
   "metadata": {},
   "outputs": [],
   "source": [
    "# from ml_metadata import metadata_store\n",
    "# connection_config = metadata_store_pb2.ConnectionConfig()\n",
    "# connection_config.sqlite.filename_uri = pipe_config.METADATA_PATH\n",
    "# store = metadata_store.MetadataStore(connection_config,enable_upgrade_migration = True)\n",
    "metadata_connection_config = tfx.orchestration.metadata.sqlite_metadata_connection_config(\n",
    "    pipe_config.METADATA_PATH)"
   ]
  },
  {
   "cell_type": "code",
   "execution_count": 4,
   "id": "a634b79c",
   "metadata": {},
   "outputs": [],
   "source": [
    "# get lattest trainer artifacts\n",
    "from pipeline.schema_pipeline.utils import get_latest_artifacts\n",
    "from tfx.orchestration.metadata import Metadata\n",
    "from tfx.types import standard_component_specs\n",
    "\n",
    "with Metadata(metadata_connection_config) as metadata_handler:\n",
    "    stat_gen_output = get_latest_artifacts(metadata_handler, pipe_config.PIPELINE_NAME,\n",
    "                                         'StatisticsGen')\n",
    "    stats_artifacts = stat_gen_output[standard_component_specs.STATISTICS_KEY]\n",
    "\n",
    "    ev_output = get_latest_artifacts(metadata_handler, pipe_config.PIPELINE_NAME,\n",
    "                                   'ExampleValidator')\n",
    "    anomalies_artifacts = ev_output[standard_component_specs.ANOMALIES_KEY]\n",
    "\n",
    "    trainer_outputs = get_latest_artifacts(metadata_handler, pipe_config.PIPELINE_NAME,\n",
    "                                          'Trainer')\n",
    "    example_gen_outputs = get_latest_artifacts(metadata_handler, pipe_config.PIPELINE_NAME,\n",
    "                                          'CsvExampleGen')\n",
    "    evaluator_outputs = get_latest_artifacts(metadata_handler, pipe_config.PIPELINE_NAME,\n",
    "                                          'Evaluator')\n",
    "    eval_artifact = evaluator_outputs[standard_component_specs.EVALUATION_KEY][0]\n",
    "    pusher_outputs = get_latest_artifacts(metadata_handler, pipe_config.PIPELINE_NAME,\n",
    "                                          'Pusher')\n",
    "    "
   ]
  },
  {
   "cell_type": "code",
   "execution_count": 5,
   "id": "d6064ff0",
   "metadata": {},
   "outputs": [
    {
     "data": {
      "text/plain": [
       "Artifact(artifact: id: 36\n",
       "type_id: 26\n",
       "uri: \"pipeline_output/penguin-e2e/Evaluator/evaluation/33\"\n",
       "custom_properties {\n",
       "  key: \"name\"\n",
       "  value {\n",
       "    string_value: \"penguin-e2e:2021-08-28T05:10:37.674821:Evaluator:evaluation:0\"\n",
       "  }\n",
       "}\n",
       "custom_properties {\n",
       "  key: \"tfx_version\"\n",
       "  value {\n",
       "    string_value: \"1.2.0\"\n",
       "  }\n",
       "}\n",
       "state: LIVE\n",
       "create_time_since_epoch: 1630127477669\n",
       "last_update_time_since_epoch: 1630127477669\n",
       ", artifact_type: id: 26\n",
       "name: \"ModelEvaluation\"\n",
       ")"
      ]
     },
     "execution_count": 5,
     "metadata": {},
     "output_type": "execute_result"
    }
   ],
   "source": [
    "eval_artifact\n"
   ]
  },
  {
   "cell_type": "markdown",
   "id": "b4c2cbbd",
   "metadata": {},
   "source": [
    "## Stats Gen"
   ]
  },
  {
   "cell_type": "code",
   "execution_count": 6,
   "id": "b02aaa15",
   "metadata": {},
   "outputs": [
    {
     "data": {
      "text/html": [
       "<div><b>'train' split:</b></div><br/>"
      ],
      "text/plain": [
       "<IPython.core.display.HTML object>"
      ]
     },
     "metadata": {},
     "output_type": "display_data"
    },
    {
     "data": {
      "text/html": [
       "<iframe id='facets-iframe' width=\"100%\" height=\"500px\"></iframe>\n",
       "        <script>\n",
       "        facets_iframe = document.getElementById('facets-iframe');\n",
       "        facets_html = '<script src=\"https://cdnjs.cloudflare.com/ajax/libs/webcomponentsjs/1.3.3/webcomponents-lite.js\"><\\/script><link rel=\"import\" href=\"https://raw.githubusercontent.com/PAIR-code/facets/master/facets-dist/facets-jupyter.html\"><facets-overview proto-input=\"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\"></facets-overview>';\n",
       "        facets_iframe.srcdoc = facets_html;\n",
       "         facets_iframe.id = \"\";\n",
       "         setTimeout(() => {\n",
       "           facets_iframe.setAttribute('height', facets_iframe.contentWindow.document.body.offsetHeight + 'px')\n",
       "         }, 1500)\n",
       "         </script>"
      ],
      "text/plain": [
       "<IPython.core.display.HTML object>"
      ]
     },
     "metadata": {},
     "output_type": "display_data"
    },
    {
     "data": {
      "text/html": [
       "<div><b>'eval' split:</b></div><br/>"
      ],
      "text/plain": [
       "<IPython.core.display.HTML object>"
      ]
     },
     "metadata": {},
     "output_type": "display_data"
    },
    {
     "data": {
      "text/html": [
       "<iframe id='facets-iframe' width=\"100%\" height=\"500px\"></iframe>\n",
       "        <script>\n",
       "        facets_iframe = document.getElementById('facets-iframe');\n",
       "        facets_html = '<script src=\"https://cdnjs.cloudflare.com/ajax/libs/webcomponentsjs/1.3.3/webcomponents-lite.js\"><\\/script><link rel=\"import\" href=\"https://raw.githubusercontent.com/PAIR-code/facets/master/facets-dist/facets-jupyter.html\"><facets-overview proto-input=\"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\"></facets-overview>';\n",
       "        facets_iframe.srcdoc = facets_html;\n",
       "         facets_iframe.id = \"\";\n",
       "         setTimeout(() => {\n",
       "           facets_iframe.setAttribute('height', facets_iframe.contentWindow.document.body.offsetHeight + 'px')\n",
       "         }, 1500)\n",
       "         </script>"
      ],
      "text/plain": [
       "<IPython.core.display.HTML object>"
      ]
     },
     "metadata": {},
     "output_type": "display_data"
    }
   ],
   "source": [
    "visualize_artifacts(stats_artifacts)"
   ]
  },
  {
   "cell_type": "markdown",
   "id": "05ba3727",
   "metadata": {},
   "source": [
    "## Example Validator"
   ]
  },
  {
   "cell_type": "code",
   "execution_count": 7,
   "id": "8ef121e9",
   "metadata": {},
   "outputs": [
    {
     "data": {
      "text/html": [
       "<div><b>'train' split:</b></div><br/>"
      ],
      "text/plain": [
       "<IPython.core.display.HTML object>"
      ]
     },
     "metadata": {},
     "output_type": "display_data"
    },
    {
     "name": "stderr",
     "output_type": "stream",
     "text": [
      "/usr/local/lib/python3.8/site-packages/tensorflow_data_validation/utils/display_util.py:217: FutureWarning: Passing a negative integer is deprecated in version 1.0 and will not be supported in future version. Instead, use None to not limit the column width.\n",
      "  pd.set_option('max_colwidth', -1)\n"
     ]
    },
    {
     "data": {
      "text/html": [
       "<h4 style=\"color:green;\">No anomalies found.</h4>"
      ],
      "text/plain": [
       "<IPython.core.display.HTML object>"
      ]
     },
     "metadata": {},
     "output_type": "display_data"
    },
    {
     "data": {
      "text/html": [
       "<div><b>'eval' split:</b></div><br/>"
      ],
      "text/plain": [
       "<IPython.core.display.HTML object>"
      ]
     },
     "metadata": {},
     "output_type": "display_data"
    },
    {
     "data": {
      "text/html": [
       "<h4 style=\"color:green;\">No anomalies found.</h4>"
      ],
      "text/plain": [
       "<IPython.core.display.HTML object>"
      ]
     },
     "metadata": {},
     "output_type": "display_data"
    }
   ],
   "source": [
    "visualize_artifacts(anomalies_artifacts)"
   ]
  },
  {
   "cell_type": "markdown",
   "id": "d91bfdbc",
   "metadata": {},
   "source": [
    "## Trainer"
   ]
  },
  {
   "cell_type": "code",
   "execution_count": 8,
   "id": "85aa4727",
   "metadata": {},
   "outputs": [],
   "source": [
    "model_run_artifact_dir = trainer_outputs['model_run'][0].uri"
   ]
  },
  {
   "cell_type": "code",
   "execution_count": 9,
   "id": "d2410d4f",
   "metadata": {},
   "outputs": [
    {
     "data": {
      "text/html": [
       "\n",
       "      <iframe id=\"tensorboard-frame-dcdcbe5835b3d846\" width=\"100%\" height=\"800\" frameborder=\"0\">\n",
       "      </iframe>\n",
       "      <script>\n",
       "        (function() {\n",
       "          const frame = document.getElementById(\"tensorboard-frame-dcdcbe5835b3d846\");\n",
       "          const url = new URL(\"/\", window.location);\n",
       "          const port = 6006;\n",
       "          if (port) {\n",
       "            url.port = port;\n",
       "          }\n",
       "          frame.src = url;\n",
       "        })();\n",
       "      </script>\n",
       "    "
      ],
      "text/plain": [
       "<IPython.core.display.HTML object>"
      ]
     },
     "metadata": {},
     "output_type": "display_data"
    }
   ],
   "source": [
    "%load_ext tensorboard\n",
    "%tensorboard --logdir {model_run_artifact_dir}"
   ]
  },
  {
   "cell_type": "markdown",
   "id": "34f79487",
   "metadata": {},
   "source": [
    "## Evaluator"
   ]
  },
  {
   "cell_type": "code",
   "execution_count": 10,
   "id": "c7cbabe0",
   "metadata": {},
   "outputs": [],
   "source": [
    "import tensorflow_model_analysis as tfma"
   ]
  },
  {
   "cell_type": "code",
   "execution_count": 11,
   "id": "0401fa75",
   "metadata": {},
   "outputs": [],
   "source": [
    "# !jupyter nbextension enable --py widgetsnbextension\n",
    "# !jupyter nbextension enable --py tensorflow_model_analysis\n",
    "# !jupyter labextension install tensorflow_model_analysis@0.33.0"
   ]
  },
  {
   "cell_type": "code",
   "execution_count": 12,
   "id": "a1d9bd44",
   "metadata": {},
   "outputs": [
    {
     "name": "stdout",
     "output_type": "stream",
     "text": [
      "Known nbextensions:\n",
      "  config dir: /usr/local/etc/jupyter/nbconfig\n",
      "    notebook section\n",
      "      jupyter-js-widgets/extension  enabled \n",
      "      - Validating: OK\n",
      "JupyterLab v3.0.0\n",
      "/usr/local/share/jupyter/labextensions\n",
      "        @jupyter-widgets/jupyterlab-manager v3.0.0 enabled OK (python, jupyterlab_widgets)\n",
      "\n",
      "Other labextensions (built into JupyterLab)\n",
      "   app dir: /usr/local/share/jupyter/lab\n",
      "        tensorflow_model_analysis v0.33.0 enabled OK\n",
      "\n"
     ]
    }
   ],
   "source": [
    "!jupyter nbextension list\n",
    "!jupyter labextension list  # for JupyterLab\n"
   ]
  },
  {
   "cell_type": "code",
   "execution_count": 13,
   "id": "b481c999",
   "metadata": {},
   "outputs": [
    {
     "name": "stdout",
     "output_type": "stream",
     "text": [
      "WARNING:tensorflow:From /usr/local/lib/python3.8/site-packages/tensorflow_model_analysis/writers/metrics_plots_and_validations_writer.py:112: tf_record_iterator (from tensorflow.python.lib.io.tf_record) is deprecated and will be removed in a future version.\n",
      "Instructions for updating:\n",
      "Use eager execution and: \n",
      "`tf.data.TFRecordDataset(path)`\n"
     ]
    },
    {
     "name": "stderr",
     "output_type": "stream",
     "text": [
      "WARNING:tensorflow:From /usr/local/lib/python3.8/site-packages/tensorflow_model_analysis/writers/metrics_plots_and_validations_writer.py:112: tf_record_iterator (from tensorflow.python.lib.io.tf_record) is deprecated and will be removed in a future version.\n",
      "Instructions for updating:\n",
      "Use eager execution and: \n",
      "`tf.data.TFRecordDataset(path)`\n"
     ]
    }
   ],
   "source": [
    "eval_result = tfma.load_eval_result(eval_artifact.uri,model_name=\"candidate\")"
   ]
  },
  {
   "cell_type": "code",
   "execution_count": 14,
   "id": "7a655cb9",
   "metadata": {},
   "outputs": [
    {
     "data": {
      "application/vnd.jupyter.widget-view+json": {
       "model_id": "27db0fbea5da48698350daf41b3e0aec",
       "version_major": 2,
       "version_minor": 0
      },
      "text/plain": [
       "SlicingMetricsViewer(config={'weightedExamplesColumn': 'example_count'}, data=[{'slice': 'Overall', 'metrics':…"
      ]
     },
     "metadata": {},
     "output_type": "display_data"
    }
   ],
   "source": [
    "tfma.view.render_slicing_metrics(eval_result)"
   ]
  },
  {
   "cell_type": "code",
   "execution_count": 15,
   "id": "658f3719",
   "metadata": {},
   "outputs": [
    {
     "data": {
      "application/vnd.jupyter.widget-view+json": {
       "model_id": "4679dda5539f4e4c9cc18e0803d8a1a3",
       "version_major": 2,
       "version_minor": 0
      },
      "text/plain": [
       "SlicingMetricsViewer(config={'weightedExamplesColumn': 'example_count'}, data=[{'slice': 'sex:male', 'metrics'…"
      ]
     },
     "metadata": {},
     "output_type": "display_data"
    }
   ],
   "source": [
    "tfma.view.render_slicing_metrics(eval_result,slicing_column='sex')"
   ]
  },
  {
   "cell_type": "code",
   "execution_count": 16,
   "id": "84b010bd",
   "metadata": {},
   "outputs": [
    {
     "data": {
      "application/vnd.jupyter.widget-view+json": {
       "model_id": "d49207029de74dc6b8000d79e5093113",
       "version_major": 2,
       "version_minor": 0
      },
      "text/plain": [
       "FairnessIndicatorViewer(slicingMetrics=[{'sliceValue': 'male', 'slice': 'sex:male', 'metrics': {'sparse_catego…"
      ]
     },
     "metadata": {},
     "output_type": "display_data"
    }
   ],
   "source": [
    "tfma.addons.fairness.view.widget_view.render_fairness_indicator(eval_result)"
   ]
  },
  {
   "cell_type": "code",
   "execution_count": 17,
   "id": "1e0a1bb4",
   "metadata": {},
   "outputs": [
    {
     "data": {
      "application/vnd.jupyter.widget-view+json": {
       "model_id": "187ee1d3de6943b4908d45eeaa335c25",
       "version_major": 2,
       "version_minor": 0
      },
      "text/plain": [
       "PlotViewer(config={'sliceName': 'sex:male', 'metricKeys': {'calibrationPlot': {'metricName': 'calibrationHisto…"
      ]
     },
     "metadata": {},
     "output_type": "display_data"
    }
   ],
   "source": [
    "tfma.view.render_plot(eval_result, tfma.SlicingSpec(feature_values={\"sex\": \"male\"}))"
   ]
  },
  {
   "cell_type": "code",
   "execution_count": 18,
   "id": "7c93b92b",
   "metadata": {},
   "outputs": [
    {
     "data": {
      "application/vnd.jupyter.widget-view+json": {
       "model_id": "f19ceb73a9134afe9a2a33211fb4b932",
       "version_major": 2,
       "version_minor": 0
      },
      "text/plain": [
       "PlotViewer(config={'sliceName': 'Overall', 'metricKeys': {'calibrationPlot': {'metricName': 'calibrationHistog…"
      ]
     },
     "metadata": {},
     "output_type": "display_data"
    }
   ],
   "source": [
    "tfma.view.render_plot(eval_result, tfma.SlicingSpec()) # whole dataset"
   ]
  },
  {
   "cell_type": "markdown",
   "id": "5bd01e34",
   "metadata": {},
   "source": [
    "### Model performance over time"
   ]
  },
  {
   "cell_type": "code",
   "execution_count": 19,
   "id": "7dc8e114",
   "metadata": {},
   "outputs": [
    {
     "data": {
      "text/plain": [
       "'pipeline_output/penguin-e2e/CsvExampleGen/examples/28'"
      ]
     },
     "execution_count": 19,
     "metadata": {},
     "output_type": "execute_result"
    }
   ],
   "source": [
    "example_gen_outputs['examples'][0].uri"
   ]
  },
  {
   "cell_type": "code",
   "execution_count": 20,
   "id": "ed5f8d94",
   "metadata": {},
   "outputs": [],
   "source": [
    "from google.protobuf import text_format\n",
    "\n",
    "# TODO how to create EvalConfig from eval_config.json from pipeline_output\n",
    "\n",
    "eval_config = text_format.Parse(\"\"\"\n",
    "  ## Model information\n",
    "  model_specs {\n",
    "    # For keras (and serving models), you need to add a `label_key`.\n",
    "    label_key: \"species\"\n",
    "  }\n",
    "\n",
    "  ## Post training metric information. These will be merged with any built-in\n",
    "  ## metrics from training.\n",
    "  metrics_specs {\n",
    "    metrics { class_name: \"ExampleCount\" }\n",
    "    metrics { class_name: \"BinaryAccuracy\" }\n",
    "    metrics { class_name: \"BinaryCrossentropy\" }\n",
    "    metrics { class_name: \"AUC\" }\n",
    "    metrics { class_name: \"AUCPrecisionRecall\" }\n",
    "    metrics { class_name: \"Precision\" }\n",
    "    metrics { class_name: \"Recall\" }\n",
    "    metrics { class_name: \"MeanLabel\" }\n",
    "    metrics { class_name: \"MeanPrediction\" }\n",
    "    metrics { class_name: \"Calibration\" }\n",
    "    metrics { class_name: \"CalibrationPlot\" }\n",
    "    metrics { class_name: \"ConfusionMatrixPlot\" }\n",
    "    # ... add additional metrics and plots ...\n",
    "  }\n",
    "\n",
    "  ## Slicing information\n",
    "\n",
    "  # overall slice\n",
    "  slicing_specs {}\n",
    "\n",
    "  # slice specific features\n",
    "  slicing_specs {\n",
    "    feature_keys: [\"sex\"]\n",
    "  }\n",
    "  slicing_specs {\n",
    "    feature_keys: [\"island\"]\n",
    "  }\n",
    "\"\"\", tfma.EvalConfig())"
   ]
  },
  {
   "cell_type": "code",
   "execution_count": 32,
   "id": "9bcb98aa",
   "metadata": {},
   "outputs": [],
   "source": [
    "import gzip\n",
    "import shutil\n",
    "import os\n",
    "import tempfile\n",
    "\n",
    "DATA_ROOT = tempfile.mkdtemp(prefix='past-data') \n",
    "TFRECORD_DAY1 = os.path.join(DATA_ROOT, 't1.tfrecord')\n",
    "TFRECORD_DAY2 = os.path.join(DATA_ROOT, 't2.tfrecord')\n",
    "TFRECORD_DAY1_gz = os.path.join(example_gen_outputs['examples'][0].uri, 'Split-train','data_tfrecord-00000-of-00001.gz')\n",
    "TFRECORD_DAY2_gz = os.path.join(example_gen_outputs['examples'][0].uri, 'Split-eval','data_tfrecord-00000-of-00001.gz')\n",
    "\n",
    "with gzip.open(TFRECORD_DAY1_gz, 'rb') as f_in:\n",
    "    with open(TFRECORD_DAY1, 'wb') as f_out:\n",
    "        shutil.copyfileobj(f_in, f_out)\n",
    "with gzip.open(TFRECORD_DAY2_gz, 'rb') as f_in:\n",
    "    with open(TFRECORD_DAY2, 'wb') as f_out:\n",
    "        shutil.copyfileobj(f_in, f_out)\n",
    "\n",
    "# change model folder so that time series graph can show x value as category\n",
    "model_path = pusher_outputs['pushed_model'][0].uri\n",
    "new_model_path = os.path.join(DATA_ROOT, 'model')\n",
    "!cp -R {model_path} {new_model_path}"
   ]
  },
  {
   "cell_type": "code",
   "execution_count": 33,
   "id": "33e218ef",
   "metadata": {},
   "outputs": [
    {
     "name": "stderr",
     "output_type": "stream",
     "text": [
      "[INFO kernel.cc:988] Loading model from path\n",
      "[INFO decision_forest.cc:590] Model loaded with 300 root(s), 4496 node(s), and 7 input feature(s).\n",
      "[INFO abstract_model.cc:993] Engine \"RandomForestGeneric\" built\n",
      "[INFO kernel.cc:848] Use fast generic engine\n",
      "WARNING:absl:Tensorflow version (2.5.0) found. Note that TFMA support for TF 2.0 is currently in beta\n",
      "[INFO kernel.cc:988] Loading model from path\n",
      "[INFO decision_forest.cc:590] Model loaded with 300 root(s), 4496 node(s), and 7 input feature(s).\n",
      "[INFO kernel.cc:848] Use fast generic engine\n",
      "WARNING:root:Make sure that locally built Python SDK docker image has Python 3.8 interpreter.\n",
      "WARNING:apache_beam.io.filebasedsink:Deleting 1 existing files in target path matching: \n",
      "WARNING:apache_beam.io.filebasedsink:Deleting 1 existing files in target path matching: \n",
      "WARNING:apache_beam.io.filebasedsink:Deleting 1 existing files in target path matching: \n",
      "WARNING:apache_beam.io.filebasedsink:Deleting 1 existing files in target path matching: \n",
      "WARNING:apache_beam.io.filebasedsink:Deleting 1 existing files in target path matching: \n",
      "[INFO kernel.cc:988] Loading model from path\n",
      "[INFO decision_forest.cc:590] Model loaded with 300 root(s), 4496 node(s), and 7 input feature(s).\n",
      "[INFO kernel.cc:848] Use fast generic engine\n",
      "WARNING:absl:Tensorflow version (2.5.0) found. Note that TFMA support for TF 2.0 is currently in beta\n",
      "[INFO kernel.cc:988] Loading model from path\n",
      "[INFO decision_forest.cc:590] Model loaded with 300 root(s), 4496 node(s), and 7 input feature(s).\n",
      "[INFO kernel.cc:848] Use fast generic engine\n",
      "WARNING:root:Make sure that locally built Python SDK docker image has Python 3.8 interpreter.\n",
      "WARNING:apache_beam.io.filebasedsink:Deleting 1 existing files in target path matching: \n",
      "WARNING:apache_beam.io.filebasedsink:Deleting 1 existing files in target path matching: \n",
      "WARNING:apache_beam.io.filebasedsink:Deleting 1 existing files in target path matching: \n",
      "WARNING:apache_beam.io.filebasedsink:Deleting 1 existing files in target path matching: \n",
      "WARNING:apache_beam.io.filebasedsink:Deleting 1 existing files in target path matching: \n"
     ]
    }
   ],
   "source": [
    "import tensorflow_decision_forests\n",
    "\n",
    "\n",
    "\n",
    "# Put data paths we prepared earlier in a list\n",
    "TFRECORDS = [TFRECORD_DAY1, TFRECORD_DAY2]\n",
    "\n",
    "# Initialize output paths list for each result \n",
    "output_paths = []\n",
    "\n",
    "# Run eval on each tfrecord separately\n",
    "for num, tfrecord in enumerate(TFRECORDS):\n",
    "\n",
    "    # Use the same model as before\n",
    "    eval_shared_model = tfma.default_eval_shared_model(\n",
    "      eval_saved_model_path=new_model_path,\n",
    "      eval_config=eval_config)\n",
    "\n",
    "    # Prepare output path name\n",
    "    output_path = os.path.join('.', 'time_series', str(num))\n",
    "    output_paths.append(output_path)\n",
    "\n",
    "    # Run TFMA on the current tfrecord in the loop\n",
    "    tfma.run_model_analysis(eval_shared_model=eval_shared_model,\n",
    "                          eval_config=eval_config,\n",
    "                          data_location=tfrecord,\n",
    "                          output_path=output_path)"
   ]
  },
  {
   "cell_type": "code",
   "execution_count": 34,
   "id": "2d0dd139",
   "metadata": {},
   "outputs": [
    {
     "data": {
      "application/vnd.jupyter.widget-view+json": {
       "model_id": "50c544e02d0944f5af9078bf8513054c",
       "version_major": 2,
       "version_minor": 0
      },
      "text/plain": [
       "TimeSeriesViewer(config={'isModelCentric': True}, data=[{'metrics': {'': {'': {'binary_accuracy': {'doubleValu…"
      ]
     },
     "metadata": {},
     "output_type": "display_data"
    }
   ],
   "source": [
    "# Load results for day 1 and day 2 datasets\n",
    "eval_results_from_disk = tfma.load_eval_results(output_paths[:2])\n",
    "\n",
    "# Visualize results\n",
    "tfma.view.render_time_series(eval_results_from_disk)"
   ]
  },
  {
   "cell_type": "code",
   "execution_count": 36,
   "id": "b028afc4",
   "metadata": {},
   "outputs": [
    {
     "name": "stdout",
     "output_type": "stream",
     "text": [
      "False\n"
     ]
    }
   ],
   "source": [
    "# Print validation result\n",
    "validation_output_path = os.path.join(eval_artifact.uri,'validations')\n",
    "validation_result = tfma.load_validation_result(validation_output_path)\n",
    "print(validation_result.validation_ok)"
   ]
  },
  {
   "cell_type": "code",
   "execution_count": null,
   "id": "a3007bec",
   "metadata": {},
   "outputs": [],
   "source": []
  }
 ],
 "metadata": {
  "interpreter": {
   "hash": "1e64235362b4bce38859efec06bbd24dafab4dadcfd37a0f4f232e16175a6897"
  },
  "kernelspec": {
   "display_name": "Python 3 (ipykernel)",
   "language": "python",
   "name": "python3"
  },
  "language_info": {
   "codemirror_mode": {
    "name": "ipython",
    "version": 3
   },
   "file_extension": ".py",
   "mimetype": "text/x-python",
   "name": "python",
   "nbconvert_exporter": "python",
   "pygments_lexer": "ipython3",
   "version": "3.8.11"
  }
 },
 "nbformat": 4,
 "nbformat_minor": 5
}
